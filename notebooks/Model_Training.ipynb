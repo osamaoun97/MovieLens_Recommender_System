{
  "cells": [
    {
      "cell_type": "markdown",
      "source": [
        "# Overview"
      ],
      "metadata": {
        "id": "rfaK4bgJwoHD"
      }
    },
    {
      "cell_type": "markdown",
      "source": [
        "This notebook is used to train a matrix factorization model for recommendation.<br>\n",
        "We'll consider the implicit features in the MovieLens100k dataset.<br>\n",
        "We'll use tensorflow recommenders to achieve this."
      ],
      "metadata": {
        "id": "MK2nPnXRwqLV"
      }
    },
    {
      "cell_type": "markdown",
      "metadata": {
        "id": "qA00wBE2Ntdm"
      },
      "source": [
        "## Import TFRS\n",
        "\n",
        "First, install and import TFRS and needed packages"
      ]
    },
    {
      "cell_type": "code",
      "execution_count": 1,
      "metadata": {
        "id": "6yzAaM85Z12D",
        "colab": {
          "base_uri": "https://localhost:8080/"
        },
        "outputId": "7b14809a-3a53-472e-818e-1e7c82b05339"
      },
      "outputs": [
        {
          "output_type": "stream",
          "name": "stdout",
          "text": [
            "\u001b[?25l     \u001b[90m━━━━━━━━━━━━━━━━━━━━━━━━━━━━━━━━━━━━━━━━\u001b[0m \u001b[32m0.0/96.2 kB\u001b[0m \u001b[31m?\u001b[0m eta \u001b[36m-:--:--\u001b[0m\r\u001b[2K     \u001b[90m━━━━━━━━━━━━━━━━━━━━━━━━━━━━━━━━━━━━━━━━\u001b[0m \u001b[32m96.2/96.2 kB\u001b[0m \u001b[31m4.7 MB/s\u001b[0m eta \u001b[36m0:00:00\u001b[0m\n",
            "\u001b[?25h"
          ]
        }
      ],
      "source": [
        "!pip install -q tensorflow_recommenders"
      ]
    },
    {
      "cell_type": "code",
      "execution_count": 2,
      "metadata": {
        "id": "n3oYt3R6Nr9l"
      },
      "outputs": [],
      "source": [
        "from typing import Dict, Text\n",
        "import tensorflow as tf\n",
        "import tensorflow_recommenders as tfrs\n",
        "import urllib.request\n",
        "import zipfile\n",
        "import pandas as pd"
      ]
    },
    {
      "cell_type": "code",
      "source": [
        "SEED = 19011"
      ],
      "metadata": {
        "id": "IXyCV5VaijJg"
      },
      "execution_count": 3,
      "outputs": []
    },
    {
      "cell_type": "code",
      "source": [
        "# python version: 3.10.11\n",
        "tf.__version__, tfrs.__version__"
      ],
      "metadata": {
        "colab": {
          "base_uri": "https://localhost:8080/"
        },
        "id": "RXbl9WKn3h6z",
        "outputId": "a1a4d330-0428-4c2e-f3c9-a746e984d056"
      },
      "execution_count": null,
      "outputs": [
        {
          "output_type": "execute_result",
          "data": {
            "text/plain": [
              "('2.12.0', 'v0.7.3')"
            ]
          },
          "metadata": {},
          "execution_count": 79
        }
      ]
    },
    {
      "cell_type": "markdown",
      "metadata": {
        "id": "zCxQ1CZcO2wh"
      },
      "source": [
        "## Download and extract data"
      ]
    },
    {
      "cell_type": "code",
      "source": [
        "DATA_URL = 'https://files.grouplens.org/datasets/movielens/ml-latest-small.zip'\n",
        "filename = 'ml-latest-small.zip'"
      ],
      "metadata": {
        "id": "mTzAph9diHSX"
      },
      "execution_count": 4,
      "outputs": []
    },
    {
      "cell_type": "code",
      "source": [
        "urllib.request.urlretrieve(DATA_URL, filename)"
      ],
      "metadata": {
        "colab": {
          "base_uri": "https://localhost:8080/"
        },
        "id": "tRn7FC5aiFAn",
        "outputId": "41532191-05eb-49a1-e478-3607b3b15acf"
      },
      "execution_count": 5,
      "outputs": [
        {
          "output_type": "execute_result",
          "data": {
            "text/plain": [
              "('ml-latest-small.zip', <http.client.HTTPMessage at 0x7fe145a2b6a0>)"
            ]
          },
          "metadata": {},
          "execution_count": 5
        }
      ]
    },
    {
      "cell_type": "code",
      "source": [
        "with zipfile.ZipFile(filename, 'r') as zip_ref:\n",
        "    zip_ref.extractall()"
      ],
      "metadata": {
        "id": "aP-nR2qSibUZ"
      },
      "execution_count": 6,
      "outputs": []
    },
    {
      "cell_type": "markdown",
      "source": [
        "## Load, prepare and split data"
      ],
      "metadata": {
        "id": "XhM4W1t6keqc"
      }
    },
    {
      "cell_type": "code",
      "source": [
        "from sklearn.model_selection import train_test_split"
      ],
      "metadata": {
        "id": "L2yFTSyV3MAt"
      },
      "execution_count": 7,
      "outputs": []
    },
    {
      "cell_type": "code",
      "source": [
        "ratings = pd.read_csv('ml-latest-small/ratings.csv')\n",
        "movies = pd.read_csv('ml-latest-small/movies.csv')"
      ],
      "metadata": {
        "id": "RmZbNGNqOtv-"
      },
      "execution_count": 8,
      "outputs": []
    },
    {
      "cell_type": "code",
      "source": [
        "ratings.head()"
      ],
      "metadata": {
        "colab": {
          "base_uri": "https://localhost:8080/",
          "height": 206
        },
        "id": "QPZtsEu4PVfE",
        "outputId": "a7e245c7-ce41-47af-d24f-f795064ae755"
      },
      "execution_count": 9,
      "outputs": [
        {
          "output_type": "execute_result",
          "data": {
            "text/plain": [
              "   userId  movieId  rating  timestamp\n",
              "0       1        1     4.0  964982703\n",
              "1       1        3     4.0  964981247\n",
              "2       1        6     4.0  964982224\n",
              "3       1       47     5.0  964983815\n",
              "4       1       50     5.0  964982931"
            ],
            "text/html": [
              "\n",
              "  <div id=\"df-056ef631-f8ea-4e86-8c78-e1f6bee0ec5a\">\n",
              "    <div class=\"colab-df-container\">\n",
              "      <div>\n",
              "<style scoped>\n",
              "    .dataframe tbody tr th:only-of-type {\n",
              "        vertical-align: middle;\n",
              "    }\n",
              "\n",
              "    .dataframe tbody tr th {\n",
              "        vertical-align: top;\n",
              "    }\n",
              "\n",
              "    .dataframe thead th {\n",
              "        text-align: right;\n",
              "    }\n",
              "</style>\n",
              "<table border=\"1\" class=\"dataframe\">\n",
              "  <thead>\n",
              "    <tr style=\"text-align: right;\">\n",
              "      <th></th>\n",
              "      <th>userId</th>\n",
              "      <th>movieId</th>\n",
              "      <th>rating</th>\n",
              "      <th>timestamp</th>\n",
              "    </tr>\n",
              "  </thead>\n",
              "  <tbody>\n",
              "    <tr>\n",
              "      <th>0</th>\n",
              "      <td>1</td>\n",
              "      <td>1</td>\n",
              "      <td>4.0</td>\n",
              "      <td>964982703</td>\n",
              "    </tr>\n",
              "    <tr>\n",
              "      <th>1</th>\n",
              "      <td>1</td>\n",
              "      <td>3</td>\n",
              "      <td>4.0</td>\n",
              "      <td>964981247</td>\n",
              "    </tr>\n",
              "    <tr>\n",
              "      <th>2</th>\n",
              "      <td>1</td>\n",
              "      <td>6</td>\n",
              "      <td>4.0</td>\n",
              "      <td>964982224</td>\n",
              "    </tr>\n",
              "    <tr>\n",
              "      <th>3</th>\n",
              "      <td>1</td>\n",
              "      <td>47</td>\n",
              "      <td>5.0</td>\n",
              "      <td>964983815</td>\n",
              "    </tr>\n",
              "    <tr>\n",
              "      <th>4</th>\n",
              "      <td>1</td>\n",
              "      <td>50</td>\n",
              "      <td>5.0</td>\n",
              "      <td>964982931</td>\n",
              "    </tr>\n",
              "  </tbody>\n",
              "</table>\n",
              "</div>\n",
              "      <button class=\"colab-df-convert\" onclick=\"convertToInteractive('df-056ef631-f8ea-4e86-8c78-e1f6bee0ec5a')\"\n",
              "              title=\"Convert this dataframe to an interactive table.\"\n",
              "              style=\"display:none;\">\n",
              "        \n",
              "  <svg xmlns=\"http://www.w3.org/2000/svg\" height=\"24px\"viewBox=\"0 0 24 24\"\n",
              "       width=\"24px\">\n",
              "    <path d=\"M0 0h24v24H0V0z\" fill=\"none\"/>\n",
              "    <path d=\"M18.56 5.44l.94 2.06.94-2.06 2.06-.94-2.06-.94-.94-2.06-.94 2.06-2.06.94zm-11 1L8.5 8.5l.94-2.06 2.06-.94-2.06-.94L8.5 2.5l-.94 2.06-2.06.94zm10 10l.94 2.06.94-2.06 2.06-.94-2.06-.94-.94-2.06-.94 2.06-2.06.94z\"/><path d=\"M17.41 7.96l-1.37-1.37c-.4-.4-.92-.59-1.43-.59-.52 0-1.04.2-1.43.59L10.3 9.45l-7.72 7.72c-.78.78-.78 2.05 0 2.83L4 21.41c.39.39.9.59 1.41.59.51 0 1.02-.2 1.41-.59l7.78-7.78 2.81-2.81c.8-.78.8-2.07 0-2.86zM5.41 20L4 18.59l7.72-7.72 1.47 1.35L5.41 20z\"/>\n",
              "  </svg>\n",
              "      </button>\n",
              "      \n",
              "  <style>\n",
              "    .colab-df-container {\n",
              "      display:flex;\n",
              "      flex-wrap:wrap;\n",
              "      gap: 12px;\n",
              "    }\n",
              "\n",
              "    .colab-df-convert {\n",
              "      background-color: #E8F0FE;\n",
              "      border: none;\n",
              "      border-radius: 50%;\n",
              "      cursor: pointer;\n",
              "      display: none;\n",
              "      fill: #1967D2;\n",
              "      height: 32px;\n",
              "      padding: 0 0 0 0;\n",
              "      width: 32px;\n",
              "    }\n",
              "\n",
              "    .colab-df-convert:hover {\n",
              "      background-color: #E2EBFA;\n",
              "      box-shadow: 0px 1px 2px rgba(60, 64, 67, 0.3), 0px 1px 3px 1px rgba(60, 64, 67, 0.15);\n",
              "      fill: #174EA6;\n",
              "    }\n",
              "\n",
              "    [theme=dark] .colab-df-convert {\n",
              "      background-color: #3B4455;\n",
              "      fill: #D2E3FC;\n",
              "    }\n",
              "\n",
              "    [theme=dark] .colab-df-convert:hover {\n",
              "      background-color: #434B5C;\n",
              "      box-shadow: 0px 1px 3px 1px rgba(0, 0, 0, 0.15);\n",
              "      filter: drop-shadow(0px 1px 2px rgba(0, 0, 0, 0.3));\n",
              "      fill: #FFFFFF;\n",
              "    }\n",
              "  </style>\n",
              "\n",
              "      <script>\n",
              "        const buttonEl =\n",
              "          document.querySelector('#df-056ef631-f8ea-4e86-8c78-e1f6bee0ec5a button.colab-df-convert');\n",
              "        buttonEl.style.display =\n",
              "          google.colab.kernel.accessAllowed ? 'block' : 'none';\n",
              "\n",
              "        async function convertToInteractive(key) {\n",
              "          const element = document.querySelector('#df-056ef631-f8ea-4e86-8c78-e1f6bee0ec5a');\n",
              "          const dataTable =\n",
              "            await google.colab.kernel.invokeFunction('convertToInteractive',\n",
              "                                                     [key], {});\n",
              "          if (!dataTable) return;\n",
              "\n",
              "          const docLinkHtml = 'Like what you see? Visit the ' +\n",
              "            '<a target=\"_blank\" href=https://colab.research.google.com/notebooks/data_table.ipynb>data table notebook</a>'\n",
              "            + ' to learn more about interactive tables.';\n",
              "          element.innerHTML = '';\n",
              "          dataTable['output_type'] = 'display_data';\n",
              "          await google.colab.output.renderOutput(dataTable, element);\n",
              "          const docLink = document.createElement('div');\n",
              "          docLink.innerHTML = docLinkHtml;\n",
              "          element.appendChild(docLink);\n",
              "        }\n",
              "      </script>\n",
              "    </div>\n",
              "  </div>\n",
              "  "
            ]
          },
          "metadata": {},
          "execution_count": 9
        }
      ]
    },
    {
      "cell_type": "code",
      "source": [
        "ratings.info()"
      ],
      "metadata": {
        "colab": {
          "base_uri": "https://localhost:8080/"
        },
        "id": "dDmrB9PFk7Qj",
        "outputId": "6b808158-05d6-4bb7-ac7a-8e7b917a4fb9"
      },
      "execution_count": 10,
      "outputs": [
        {
          "output_type": "stream",
          "name": "stdout",
          "text": [
            "<class 'pandas.core.frame.DataFrame'>\n",
            "RangeIndex: 100836 entries, 0 to 100835\n",
            "Data columns (total 4 columns):\n",
            " #   Column     Non-Null Count   Dtype  \n",
            "---  ------     --------------   -----  \n",
            " 0   userId     100836 non-null  int64  \n",
            " 1   movieId    100836 non-null  int64  \n",
            " 2   rating     100836 non-null  float64\n",
            " 3   timestamp  100836 non-null  int64  \n",
            "dtypes: float64(1), int64(3)\n",
            "memory usage: 3.1 MB\n"
          ]
        }
      ]
    },
    {
      "cell_type": "code",
      "source": [
        "movies.head()"
      ],
      "metadata": {
        "colab": {
          "base_uri": "https://localhost:8080/",
          "height": 206
        },
        "id": "H-kSygb2k-DM",
        "outputId": "6d9ed1be-6885-4194-dbd1-95ba5cbbca88"
      },
      "execution_count": 11,
      "outputs": [
        {
          "output_type": "execute_result",
          "data": {
            "text/plain": [
              "   movieId                               title  \\\n",
              "0        1                    Toy Story (1995)   \n",
              "1        2                      Jumanji (1995)   \n",
              "2        3             Grumpier Old Men (1995)   \n",
              "3        4            Waiting to Exhale (1995)   \n",
              "4        5  Father of the Bride Part II (1995)   \n",
              "\n",
              "                                        genres  \n",
              "0  Adventure|Animation|Children|Comedy|Fantasy  \n",
              "1                   Adventure|Children|Fantasy  \n",
              "2                               Comedy|Romance  \n",
              "3                         Comedy|Drama|Romance  \n",
              "4                                       Comedy  "
            ],
            "text/html": [
              "\n",
              "  <div id=\"df-67e24457-9d2a-4220-9e6c-94022a881c3c\">\n",
              "    <div class=\"colab-df-container\">\n",
              "      <div>\n",
              "<style scoped>\n",
              "    .dataframe tbody tr th:only-of-type {\n",
              "        vertical-align: middle;\n",
              "    }\n",
              "\n",
              "    .dataframe tbody tr th {\n",
              "        vertical-align: top;\n",
              "    }\n",
              "\n",
              "    .dataframe thead th {\n",
              "        text-align: right;\n",
              "    }\n",
              "</style>\n",
              "<table border=\"1\" class=\"dataframe\">\n",
              "  <thead>\n",
              "    <tr style=\"text-align: right;\">\n",
              "      <th></th>\n",
              "      <th>movieId</th>\n",
              "      <th>title</th>\n",
              "      <th>genres</th>\n",
              "    </tr>\n",
              "  </thead>\n",
              "  <tbody>\n",
              "    <tr>\n",
              "      <th>0</th>\n",
              "      <td>1</td>\n",
              "      <td>Toy Story (1995)</td>\n",
              "      <td>Adventure|Animation|Children|Comedy|Fantasy</td>\n",
              "    </tr>\n",
              "    <tr>\n",
              "      <th>1</th>\n",
              "      <td>2</td>\n",
              "      <td>Jumanji (1995)</td>\n",
              "      <td>Adventure|Children|Fantasy</td>\n",
              "    </tr>\n",
              "    <tr>\n",
              "      <th>2</th>\n",
              "      <td>3</td>\n",
              "      <td>Grumpier Old Men (1995)</td>\n",
              "      <td>Comedy|Romance</td>\n",
              "    </tr>\n",
              "    <tr>\n",
              "      <th>3</th>\n",
              "      <td>4</td>\n",
              "      <td>Waiting to Exhale (1995)</td>\n",
              "      <td>Comedy|Drama|Romance</td>\n",
              "    </tr>\n",
              "    <tr>\n",
              "      <th>4</th>\n",
              "      <td>5</td>\n",
              "      <td>Father of the Bride Part II (1995)</td>\n",
              "      <td>Comedy</td>\n",
              "    </tr>\n",
              "  </tbody>\n",
              "</table>\n",
              "</div>\n",
              "      <button class=\"colab-df-convert\" onclick=\"convertToInteractive('df-67e24457-9d2a-4220-9e6c-94022a881c3c')\"\n",
              "              title=\"Convert this dataframe to an interactive table.\"\n",
              "              style=\"display:none;\">\n",
              "        \n",
              "  <svg xmlns=\"http://www.w3.org/2000/svg\" height=\"24px\"viewBox=\"0 0 24 24\"\n",
              "       width=\"24px\">\n",
              "    <path d=\"M0 0h24v24H0V0z\" fill=\"none\"/>\n",
              "    <path d=\"M18.56 5.44l.94 2.06.94-2.06 2.06-.94-2.06-.94-.94-2.06-.94 2.06-2.06.94zm-11 1L8.5 8.5l.94-2.06 2.06-.94-2.06-.94L8.5 2.5l-.94 2.06-2.06.94zm10 10l.94 2.06.94-2.06 2.06-.94-2.06-.94-.94-2.06-.94 2.06-2.06.94z\"/><path d=\"M17.41 7.96l-1.37-1.37c-.4-.4-.92-.59-1.43-.59-.52 0-1.04.2-1.43.59L10.3 9.45l-7.72 7.72c-.78.78-.78 2.05 0 2.83L4 21.41c.39.39.9.59 1.41.59.51 0 1.02-.2 1.41-.59l7.78-7.78 2.81-2.81c.8-.78.8-2.07 0-2.86zM5.41 20L4 18.59l7.72-7.72 1.47 1.35L5.41 20z\"/>\n",
              "  </svg>\n",
              "      </button>\n",
              "      \n",
              "  <style>\n",
              "    .colab-df-container {\n",
              "      display:flex;\n",
              "      flex-wrap:wrap;\n",
              "      gap: 12px;\n",
              "    }\n",
              "\n",
              "    .colab-df-convert {\n",
              "      background-color: #E8F0FE;\n",
              "      border: none;\n",
              "      border-radius: 50%;\n",
              "      cursor: pointer;\n",
              "      display: none;\n",
              "      fill: #1967D2;\n",
              "      height: 32px;\n",
              "      padding: 0 0 0 0;\n",
              "      width: 32px;\n",
              "    }\n",
              "\n",
              "    .colab-df-convert:hover {\n",
              "      background-color: #E2EBFA;\n",
              "      box-shadow: 0px 1px 2px rgba(60, 64, 67, 0.3), 0px 1px 3px 1px rgba(60, 64, 67, 0.15);\n",
              "      fill: #174EA6;\n",
              "    }\n",
              "\n",
              "    [theme=dark] .colab-df-convert {\n",
              "      background-color: #3B4455;\n",
              "      fill: #D2E3FC;\n",
              "    }\n",
              "\n",
              "    [theme=dark] .colab-df-convert:hover {\n",
              "      background-color: #434B5C;\n",
              "      box-shadow: 0px 1px 3px 1px rgba(0, 0, 0, 0.15);\n",
              "      filter: drop-shadow(0px 1px 2px rgba(0, 0, 0, 0.3));\n",
              "      fill: #FFFFFF;\n",
              "    }\n",
              "  </style>\n",
              "\n",
              "      <script>\n",
              "        const buttonEl =\n",
              "          document.querySelector('#df-67e24457-9d2a-4220-9e6c-94022a881c3c button.colab-df-convert');\n",
              "        buttonEl.style.display =\n",
              "          google.colab.kernel.accessAllowed ? 'block' : 'none';\n",
              "\n",
              "        async function convertToInteractive(key) {\n",
              "          const element = document.querySelector('#df-67e24457-9d2a-4220-9e6c-94022a881c3c');\n",
              "          const dataTable =\n",
              "            await google.colab.kernel.invokeFunction('convertToInteractive',\n",
              "                                                     [key], {});\n",
              "          if (!dataTable) return;\n",
              "\n",
              "          const docLinkHtml = 'Like what you see? Visit the ' +\n",
              "            '<a target=\"_blank\" href=https://colab.research.google.com/notebooks/data_table.ipynb>data table notebook</a>'\n",
              "            + ' to learn more about interactive tables.';\n",
              "          element.innerHTML = '';\n",
              "          dataTable['output_type'] = 'display_data';\n",
              "          await google.colab.output.renderOutput(dataTable, element);\n",
              "          const docLink = document.createElement('div');\n",
              "          docLink.innerHTML = docLinkHtml;\n",
              "          element.appendChild(docLink);\n",
              "        }\n",
              "      </script>\n",
              "    </div>\n",
              "  </div>\n",
              "  "
            ]
          },
          "metadata": {},
          "execution_count": 11
        }
      ]
    },
    {
      "cell_type": "code",
      "source": [
        "movies.info()"
      ],
      "metadata": {
        "colab": {
          "base_uri": "https://localhost:8080/"
        },
        "id": "hYMFHFE0k_0G",
        "outputId": "989db457-e97d-4c91-8c30-037f278c1027"
      },
      "execution_count": 12,
      "outputs": [
        {
          "output_type": "stream",
          "name": "stdout",
          "text": [
            "<class 'pandas.core.frame.DataFrame'>\n",
            "RangeIndex: 9742 entries, 0 to 9741\n",
            "Data columns (total 3 columns):\n",
            " #   Column   Non-Null Count  Dtype \n",
            "---  ------   --------------  ----- \n",
            " 0   movieId  9742 non-null   int64 \n",
            " 1   title    9742 non-null   object\n",
            " 2   genres   9742 non-null   object\n",
            "dtypes: int64(1), object(2)\n",
            "memory usage: 228.5+ KB\n"
          ]
        }
      ]
    },
    {
      "cell_type": "code",
      "source": [
        "ratings = ratings.join(movies, on='movieId', lsuffix='', rsuffix='_', how='inner')[['userId', 'title', 'rating', 'timestamp']].rename(columns={'title':'movieTitle'})\n",
        "ratings"
      ],
      "metadata": {
        "colab": {
          "base_uri": "https://localhost:8080/",
          "height": 423
        },
        "id": "-tw-BoVHP06x",
        "outputId": "69711bf5-89d2-470c-b319-dc209f94185e"
      },
      "execution_count": 13,
      "outputs": [
        {
          "output_type": "execute_result",
          "data": {
            "text/plain": [
              "        userId                      movieTitle  rating   timestamp\n",
              "0            1                  Jumanji (1995)     4.0   964982703\n",
              "516          5                  Jumanji (1995)     4.0   847434962\n",
              "874          7                  Jumanji (1995)     4.5  1106635946\n",
              "1434        15                  Jumanji (1995)     2.5  1510577970\n",
              "1667        17                  Jumanji (1995)     4.5  1305696483\n",
              "...        ...                             ...     ...         ...\n",
              "99945      610  Mrs. Henderson Presents (2005)     3.5  1479542444\n",
              "100012     610                Planet 51 (2009)     3.0  1493848602\n",
              "100033     610              Source Code (2011)     2.5  1479544865\n",
              "100038     610              Master, The (2012)     4.0  1495959169\n",
              "100060     610                  Breathe (2014)     1.0  1479542247\n",
              "\n",
              "[77939 rows x 4 columns]"
            ],
            "text/html": [
              "\n",
              "  <div id=\"df-21d31791-236a-4e47-9fd1-1c9e717bb44c\">\n",
              "    <div class=\"colab-df-container\">\n",
              "      <div>\n",
              "<style scoped>\n",
              "    .dataframe tbody tr th:only-of-type {\n",
              "        vertical-align: middle;\n",
              "    }\n",
              "\n",
              "    .dataframe tbody tr th {\n",
              "        vertical-align: top;\n",
              "    }\n",
              "\n",
              "    .dataframe thead th {\n",
              "        text-align: right;\n",
              "    }\n",
              "</style>\n",
              "<table border=\"1\" class=\"dataframe\">\n",
              "  <thead>\n",
              "    <tr style=\"text-align: right;\">\n",
              "      <th></th>\n",
              "      <th>userId</th>\n",
              "      <th>movieTitle</th>\n",
              "      <th>rating</th>\n",
              "      <th>timestamp</th>\n",
              "    </tr>\n",
              "  </thead>\n",
              "  <tbody>\n",
              "    <tr>\n",
              "      <th>0</th>\n",
              "      <td>1</td>\n",
              "      <td>Jumanji (1995)</td>\n",
              "      <td>4.0</td>\n",
              "      <td>964982703</td>\n",
              "    </tr>\n",
              "    <tr>\n",
              "      <th>516</th>\n",
              "      <td>5</td>\n",
              "      <td>Jumanji (1995)</td>\n",
              "      <td>4.0</td>\n",
              "      <td>847434962</td>\n",
              "    </tr>\n",
              "    <tr>\n",
              "      <th>874</th>\n",
              "      <td>7</td>\n",
              "      <td>Jumanji (1995)</td>\n",
              "      <td>4.5</td>\n",
              "      <td>1106635946</td>\n",
              "    </tr>\n",
              "    <tr>\n",
              "      <th>1434</th>\n",
              "      <td>15</td>\n",
              "      <td>Jumanji (1995)</td>\n",
              "      <td>2.5</td>\n",
              "      <td>1510577970</td>\n",
              "    </tr>\n",
              "    <tr>\n",
              "      <th>1667</th>\n",
              "      <td>17</td>\n",
              "      <td>Jumanji (1995)</td>\n",
              "      <td>4.5</td>\n",
              "      <td>1305696483</td>\n",
              "    </tr>\n",
              "    <tr>\n",
              "      <th>...</th>\n",
              "      <td>...</td>\n",
              "      <td>...</td>\n",
              "      <td>...</td>\n",
              "      <td>...</td>\n",
              "    </tr>\n",
              "    <tr>\n",
              "      <th>99945</th>\n",
              "      <td>610</td>\n",
              "      <td>Mrs. Henderson Presents (2005)</td>\n",
              "      <td>3.5</td>\n",
              "      <td>1479542444</td>\n",
              "    </tr>\n",
              "    <tr>\n",
              "      <th>100012</th>\n",
              "      <td>610</td>\n",
              "      <td>Planet 51 (2009)</td>\n",
              "      <td>3.0</td>\n",
              "      <td>1493848602</td>\n",
              "    </tr>\n",
              "    <tr>\n",
              "      <th>100033</th>\n",
              "      <td>610</td>\n",
              "      <td>Source Code (2011)</td>\n",
              "      <td>2.5</td>\n",
              "      <td>1479544865</td>\n",
              "    </tr>\n",
              "    <tr>\n",
              "      <th>100038</th>\n",
              "      <td>610</td>\n",
              "      <td>Master, The (2012)</td>\n",
              "      <td>4.0</td>\n",
              "      <td>1495959169</td>\n",
              "    </tr>\n",
              "    <tr>\n",
              "      <th>100060</th>\n",
              "      <td>610</td>\n",
              "      <td>Breathe (2014)</td>\n",
              "      <td>1.0</td>\n",
              "      <td>1479542247</td>\n",
              "    </tr>\n",
              "  </tbody>\n",
              "</table>\n",
              "<p>77939 rows × 4 columns</p>\n",
              "</div>\n",
              "      <button class=\"colab-df-convert\" onclick=\"convertToInteractive('df-21d31791-236a-4e47-9fd1-1c9e717bb44c')\"\n",
              "              title=\"Convert this dataframe to an interactive table.\"\n",
              "              style=\"display:none;\">\n",
              "        \n",
              "  <svg xmlns=\"http://www.w3.org/2000/svg\" height=\"24px\"viewBox=\"0 0 24 24\"\n",
              "       width=\"24px\">\n",
              "    <path d=\"M0 0h24v24H0V0z\" fill=\"none\"/>\n",
              "    <path d=\"M18.56 5.44l.94 2.06.94-2.06 2.06-.94-2.06-.94-.94-2.06-.94 2.06-2.06.94zm-11 1L8.5 8.5l.94-2.06 2.06-.94-2.06-.94L8.5 2.5l-.94 2.06-2.06.94zm10 10l.94 2.06.94-2.06 2.06-.94-2.06-.94-.94-2.06-.94 2.06-2.06.94z\"/><path d=\"M17.41 7.96l-1.37-1.37c-.4-.4-.92-.59-1.43-.59-.52 0-1.04.2-1.43.59L10.3 9.45l-7.72 7.72c-.78.78-.78 2.05 0 2.83L4 21.41c.39.39.9.59 1.41.59.51 0 1.02-.2 1.41-.59l7.78-7.78 2.81-2.81c.8-.78.8-2.07 0-2.86zM5.41 20L4 18.59l7.72-7.72 1.47 1.35L5.41 20z\"/>\n",
              "  </svg>\n",
              "      </button>\n",
              "      \n",
              "  <style>\n",
              "    .colab-df-container {\n",
              "      display:flex;\n",
              "      flex-wrap:wrap;\n",
              "      gap: 12px;\n",
              "    }\n",
              "\n",
              "    .colab-df-convert {\n",
              "      background-color: #E8F0FE;\n",
              "      border: none;\n",
              "      border-radius: 50%;\n",
              "      cursor: pointer;\n",
              "      display: none;\n",
              "      fill: #1967D2;\n",
              "      height: 32px;\n",
              "      padding: 0 0 0 0;\n",
              "      width: 32px;\n",
              "    }\n",
              "\n",
              "    .colab-df-convert:hover {\n",
              "      background-color: #E2EBFA;\n",
              "      box-shadow: 0px 1px 2px rgba(60, 64, 67, 0.3), 0px 1px 3px 1px rgba(60, 64, 67, 0.15);\n",
              "      fill: #174EA6;\n",
              "    }\n",
              "\n",
              "    [theme=dark] .colab-df-convert {\n",
              "      background-color: #3B4455;\n",
              "      fill: #D2E3FC;\n",
              "    }\n",
              "\n",
              "    [theme=dark] .colab-df-convert:hover {\n",
              "      background-color: #434B5C;\n",
              "      box-shadow: 0px 1px 3px 1px rgba(0, 0, 0, 0.15);\n",
              "      filter: drop-shadow(0px 1px 2px rgba(0, 0, 0, 0.3));\n",
              "      fill: #FFFFFF;\n",
              "    }\n",
              "  </style>\n",
              "\n",
              "      <script>\n",
              "        const buttonEl =\n",
              "          document.querySelector('#df-21d31791-236a-4e47-9fd1-1c9e717bb44c button.colab-df-convert');\n",
              "        buttonEl.style.display =\n",
              "          google.colab.kernel.accessAllowed ? 'block' : 'none';\n",
              "\n",
              "        async function convertToInteractive(key) {\n",
              "          const element = document.querySelector('#df-21d31791-236a-4e47-9fd1-1c9e717bb44c');\n",
              "          const dataTable =\n",
              "            await google.colab.kernel.invokeFunction('convertToInteractive',\n",
              "                                                     [key], {});\n",
              "          if (!dataTable) return;\n",
              "\n",
              "          const docLinkHtml = 'Like what you see? Visit the ' +\n",
              "            '<a target=\"_blank\" href=https://colab.research.google.com/notebooks/data_table.ipynb>data table notebook</a>'\n",
              "            + ' to learn more about interactive tables.';\n",
              "          element.innerHTML = '';\n",
              "          dataTable['output_type'] = 'display_data';\n",
              "          await google.colab.output.renderOutput(dataTable, element);\n",
              "          const docLink = document.createElement('div');\n",
              "          docLink.innerHTML = docLinkHtml;\n",
              "          element.appendChild(docLink);\n",
              "        }\n",
              "      </script>\n",
              "    </div>\n",
              "  </div>\n",
              "  "
            ]
          },
          "metadata": {},
          "execution_count": 13
        }
      ]
    },
    {
      "cell_type": "code",
      "source": [
        "movies = movies.rename(columns={'title':'movieTitle'})\n",
        "movies"
      ],
      "metadata": {
        "colab": {
          "base_uri": "https://localhost:8080/",
          "height": 423
        },
        "id": "7KiLC-gIRU7K",
        "outputId": "d254491e-571e-4e6a-b65b-f7c972c9dde8"
      },
      "execution_count": 14,
      "outputs": [
        {
          "output_type": "execute_result",
          "data": {
            "text/plain": [
              "      movieId                                 movieTitle  \\\n",
              "0           1                           Toy Story (1995)   \n",
              "1           2                             Jumanji (1995)   \n",
              "2           3                    Grumpier Old Men (1995)   \n",
              "3           4                   Waiting to Exhale (1995)   \n",
              "4           5         Father of the Bride Part II (1995)   \n",
              "...       ...                                        ...   \n",
              "9737   193581  Black Butler: Book of the Atlantic (2017)   \n",
              "9738   193583               No Game No Life: Zero (2017)   \n",
              "9739   193585                               Flint (2017)   \n",
              "9740   193587        Bungo Stray Dogs: Dead Apple (2018)   \n",
              "9741   193609        Andrew Dice Clay: Dice Rules (1991)   \n",
              "\n",
              "                                           genres  \n",
              "0     Adventure|Animation|Children|Comedy|Fantasy  \n",
              "1                      Adventure|Children|Fantasy  \n",
              "2                                  Comedy|Romance  \n",
              "3                            Comedy|Drama|Romance  \n",
              "4                                          Comedy  \n",
              "...                                           ...  \n",
              "9737              Action|Animation|Comedy|Fantasy  \n",
              "9738                     Animation|Comedy|Fantasy  \n",
              "9739                                        Drama  \n",
              "9740                             Action|Animation  \n",
              "9741                                       Comedy  \n",
              "\n",
              "[9742 rows x 3 columns]"
            ],
            "text/html": [
              "\n",
              "  <div id=\"df-8db87246-1e2f-40b6-8461-9956965b8621\">\n",
              "    <div class=\"colab-df-container\">\n",
              "      <div>\n",
              "<style scoped>\n",
              "    .dataframe tbody tr th:only-of-type {\n",
              "        vertical-align: middle;\n",
              "    }\n",
              "\n",
              "    .dataframe tbody tr th {\n",
              "        vertical-align: top;\n",
              "    }\n",
              "\n",
              "    .dataframe thead th {\n",
              "        text-align: right;\n",
              "    }\n",
              "</style>\n",
              "<table border=\"1\" class=\"dataframe\">\n",
              "  <thead>\n",
              "    <tr style=\"text-align: right;\">\n",
              "      <th></th>\n",
              "      <th>movieId</th>\n",
              "      <th>movieTitle</th>\n",
              "      <th>genres</th>\n",
              "    </tr>\n",
              "  </thead>\n",
              "  <tbody>\n",
              "    <tr>\n",
              "      <th>0</th>\n",
              "      <td>1</td>\n",
              "      <td>Toy Story (1995)</td>\n",
              "      <td>Adventure|Animation|Children|Comedy|Fantasy</td>\n",
              "    </tr>\n",
              "    <tr>\n",
              "      <th>1</th>\n",
              "      <td>2</td>\n",
              "      <td>Jumanji (1995)</td>\n",
              "      <td>Adventure|Children|Fantasy</td>\n",
              "    </tr>\n",
              "    <tr>\n",
              "      <th>2</th>\n",
              "      <td>3</td>\n",
              "      <td>Grumpier Old Men (1995)</td>\n",
              "      <td>Comedy|Romance</td>\n",
              "    </tr>\n",
              "    <tr>\n",
              "      <th>3</th>\n",
              "      <td>4</td>\n",
              "      <td>Waiting to Exhale (1995)</td>\n",
              "      <td>Comedy|Drama|Romance</td>\n",
              "    </tr>\n",
              "    <tr>\n",
              "      <th>4</th>\n",
              "      <td>5</td>\n",
              "      <td>Father of the Bride Part II (1995)</td>\n",
              "      <td>Comedy</td>\n",
              "    </tr>\n",
              "    <tr>\n",
              "      <th>...</th>\n",
              "      <td>...</td>\n",
              "      <td>...</td>\n",
              "      <td>...</td>\n",
              "    </tr>\n",
              "    <tr>\n",
              "      <th>9737</th>\n",
              "      <td>193581</td>\n",
              "      <td>Black Butler: Book of the Atlantic (2017)</td>\n",
              "      <td>Action|Animation|Comedy|Fantasy</td>\n",
              "    </tr>\n",
              "    <tr>\n",
              "      <th>9738</th>\n",
              "      <td>193583</td>\n",
              "      <td>No Game No Life: Zero (2017)</td>\n",
              "      <td>Animation|Comedy|Fantasy</td>\n",
              "    </tr>\n",
              "    <tr>\n",
              "      <th>9739</th>\n",
              "      <td>193585</td>\n",
              "      <td>Flint (2017)</td>\n",
              "      <td>Drama</td>\n",
              "    </tr>\n",
              "    <tr>\n",
              "      <th>9740</th>\n",
              "      <td>193587</td>\n",
              "      <td>Bungo Stray Dogs: Dead Apple (2018)</td>\n",
              "      <td>Action|Animation</td>\n",
              "    </tr>\n",
              "    <tr>\n",
              "      <th>9741</th>\n",
              "      <td>193609</td>\n",
              "      <td>Andrew Dice Clay: Dice Rules (1991)</td>\n",
              "      <td>Comedy</td>\n",
              "    </tr>\n",
              "  </tbody>\n",
              "</table>\n",
              "<p>9742 rows × 3 columns</p>\n",
              "</div>\n",
              "      <button class=\"colab-df-convert\" onclick=\"convertToInteractive('df-8db87246-1e2f-40b6-8461-9956965b8621')\"\n",
              "              title=\"Convert this dataframe to an interactive table.\"\n",
              "              style=\"display:none;\">\n",
              "        \n",
              "  <svg xmlns=\"http://www.w3.org/2000/svg\" height=\"24px\"viewBox=\"0 0 24 24\"\n",
              "       width=\"24px\">\n",
              "    <path d=\"M0 0h24v24H0V0z\" fill=\"none\"/>\n",
              "    <path d=\"M18.56 5.44l.94 2.06.94-2.06 2.06-.94-2.06-.94-.94-2.06-.94 2.06-2.06.94zm-11 1L8.5 8.5l.94-2.06 2.06-.94-2.06-.94L8.5 2.5l-.94 2.06-2.06.94zm10 10l.94 2.06.94-2.06 2.06-.94-2.06-.94-.94-2.06-.94 2.06-2.06.94z\"/><path d=\"M17.41 7.96l-1.37-1.37c-.4-.4-.92-.59-1.43-.59-.52 0-1.04.2-1.43.59L10.3 9.45l-7.72 7.72c-.78.78-.78 2.05 0 2.83L4 21.41c.39.39.9.59 1.41.59.51 0 1.02-.2 1.41-.59l7.78-7.78 2.81-2.81c.8-.78.8-2.07 0-2.86zM5.41 20L4 18.59l7.72-7.72 1.47 1.35L5.41 20z\"/>\n",
              "  </svg>\n",
              "      </button>\n",
              "      \n",
              "  <style>\n",
              "    .colab-df-container {\n",
              "      display:flex;\n",
              "      flex-wrap:wrap;\n",
              "      gap: 12px;\n",
              "    }\n",
              "\n",
              "    .colab-df-convert {\n",
              "      background-color: #E8F0FE;\n",
              "      border: none;\n",
              "      border-radius: 50%;\n",
              "      cursor: pointer;\n",
              "      display: none;\n",
              "      fill: #1967D2;\n",
              "      height: 32px;\n",
              "      padding: 0 0 0 0;\n",
              "      width: 32px;\n",
              "    }\n",
              "\n",
              "    .colab-df-convert:hover {\n",
              "      background-color: #E2EBFA;\n",
              "      box-shadow: 0px 1px 2px rgba(60, 64, 67, 0.3), 0px 1px 3px 1px rgba(60, 64, 67, 0.15);\n",
              "      fill: #174EA6;\n",
              "    }\n",
              "\n",
              "    [theme=dark] .colab-df-convert {\n",
              "      background-color: #3B4455;\n",
              "      fill: #D2E3FC;\n",
              "    }\n",
              "\n",
              "    [theme=dark] .colab-df-convert:hover {\n",
              "      background-color: #434B5C;\n",
              "      box-shadow: 0px 1px 3px 1px rgba(0, 0, 0, 0.15);\n",
              "      filter: drop-shadow(0px 1px 2px rgba(0, 0, 0, 0.3));\n",
              "      fill: #FFFFFF;\n",
              "    }\n",
              "  </style>\n",
              "\n",
              "      <script>\n",
              "        const buttonEl =\n",
              "          document.querySelector('#df-8db87246-1e2f-40b6-8461-9956965b8621 button.colab-df-convert');\n",
              "        buttonEl.style.display =\n",
              "          google.colab.kernel.accessAllowed ? 'block' : 'none';\n",
              "\n",
              "        async function convertToInteractive(key) {\n",
              "          const element = document.querySelector('#df-8db87246-1e2f-40b6-8461-9956965b8621');\n",
              "          const dataTable =\n",
              "            await google.colab.kernel.invokeFunction('convertToInteractive',\n",
              "                                                     [key], {});\n",
              "          if (!dataTable) return;\n",
              "\n",
              "          const docLinkHtml = 'Like what you see? Visit the ' +\n",
              "            '<a target=\"_blank\" href=https://colab.research.google.com/notebooks/data_table.ipynb>data table notebook</a>'\n",
              "            + ' to learn more about interactive tables.';\n",
              "          element.innerHTML = '';\n",
              "          dataTable['output_type'] = 'display_data';\n",
              "          await google.colab.output.renderOutput(dataTable, element);\n",
              "          const docLink = document.createElement('div');\n",
              "          docLink.innerHTML = docLinkHtml;\n",
              "          element.appendChild(docLink);\n",
              "        }\n",
              "      </script>\n",
              "    </div>\n",
              "  </div>\n",
              "  "
            ]
          },
          "metadata": {},
          "execution_count": 14
        }
      ]
    },
    {
      "cell_type": "code",
      "source": [
        "ratings['userId'] = ratings['userId'].map(lambda id_int: str(id_int))\n",
        "movies['movieId'] = movies['movieId'].map(lambda id_int: str(id_int))"
      ],
      "metadata": {
        "id": "TFn8P4_Ms72Z"
      },
      "execution_count": 15,
      "outputs": []
    },
    {
      "cell_type": "code",
      "source": [
        "train_valid , test = train_test_split(ratings, test_size=0.2, stratify=ratings['userId'], random_state=SEED)"
      ],
      "metadata": {
        "id": "qPviRgX_ppSf"
      },
      "execution_count": 16,
      "outputs": []
    },
    {
      "cell_type": "code",
      "source": [
        "train, valid = train_test_split(train_valid, test_size=0.1, stratify=train_valid['userId'], random_state=SEED)"
      ],
      "metadata": {
        "id": "sYqrSSMHjv0F"
      },
      "execution_count": 17,
      "outputs": []
    },
    {
      "cell_type": "code",
      "source": [
        "train.head()"
      ],
      "metadata": {
        "id": "eBNQTcET_0UH",
        "colab": {
          "base_uri": "https://localhost:8080/",
          "height": 206
        },
        "outputId": "ad62383d-7f82-46b7-9a16-4c303263cab9"
      },
      "execution_count": 18,
      "outputs": [
        {
          "output_type": "execute_result",
          "data": {
            "text/plain": [
              "      userId                          movieTitle  rating   timestamp\n",
              "31264    217           I Saw What You Did (1965)     2.0   955942252\n",
              "36013    246             Twin Falls Idaho (1999)     4.0  1353864835\n",
              "8562      58  Four Weddings and a Funeral (1994)     5.0   847718851\n",
              "93179    599                       Marnie (1964)     3.0  1498521686\n",
              "94007    599                Anna Christie (1930)     2.5  1498515351"
            ],
            "text/html": [
              "\n",
              "  <div id=\"df-eca18a8d-d768-4b09-9d8b-ac8370a99c76\">\n",
              "    <div class=\"colab-df-container\">\n",
              "      <div>\n",
              "<style scoped>\n",
              "    .dataframe tbody tr th:only-of-type {\n",
              "        vertical-align: middle;\n",
              "    }\n",
              "\n",
              "    .dataframe tbody tr th {\n",
              "        vertical-align: top;\n",
              "    }\n",
              "\n",
              "    .dataframe thead th {\n",
              "        text-align: right;\n",
              "    }\n",
              "</style>\n",
              "<table border=\"1\" class=\"dataframe\">\n",
              "  <thead>\n",
              "    <tr style=\"text-align: right;\">\n",
              "      <th></th>\n",
              "      <th>userId</th>\n",
              "      <th>movieTitle</th>\n",
              "      <th>rating</th>\n",
              "      <th>timestamp</th>\n",
              "    </tr>\n",
              "  </thead>\n",
              "  <tbody>\n",
              "    <tr>\n",
              "      <th>31264</th>\n",
              "      <td>217</td>\n",
              "      <td>I Saw What You Did (1965)</td>\n",
              "      <td>2.0</td>\n",
              "      <td>955942252</td>\n",
              "    </tr>\n",
              "    <tr>\n",
              "      <th>36013</th>\n",
              "      <td>246</td>\n",
              "      <td>Twin Falls Idaho (1999)</td>\n",
              "      <td>4.0</td>\n",
              "      <td>1353864835</td>\n",
              "    </tr>\n",
              "    <tr>\n",
              "      <th>8562</th>\n",
              "      <td>58</td>\n",
              "      <td>Four Weddings and a Funeral (1994)</td>\n",
              "      <td>5.0</td>\n",
              "      <td>847718851</td>\n",
              "    </tr>\n",
              "    <tr>\n",
              "      <th>93179</th>\n",
              "      <td>599</td>\n",
              "      <td>Marnie (1964)</td>\n",
              "      <td>3.0</td>\n",
              "      <td>1498521686</td>\n",
              "    </tr>\n",
              "    <tr>\n",
              "      <th>94007</th>\n",
              "      <td>599</td>\n",
              "      <td>Anna Christie (1930)</td>\n",
              "      <td>2.5</td>\n",
              "      <td>1498515351</td>\n",
              "    </tr>\n",
              "  </tbody>\n",
              "</table>\n",
              "</div>\n",
              "      <button class=\"colab-df-convert\" onclick=\"convertToInteractive('df-eca18a8d-d768-4b09-9d8b-ac8370a99c76')\"\n",
              "              title=\"Convert this dataframe to an interactive table.\"\n",
              "              style=\"display:none;\">\n",
              "        \n",
              "  <svg xmlns=\"http://www.w3.org/2000/svg\" height=\"24px\"viewBox=\"0 0 24 24\"\n",
              "       width=\"24px\">\n",
              "    <path d=\"M0 0h24v24H0V0z\" fill=\"none\"/>\n",
              "    <path d=\"M18.56 5.44l.94 2.06.94-2.06 2.06-.94-2.06-.94-.94-2.06-.94 2.06-2.06.94zm-11 1L8.5 8.5l.94-2.06 2.06-.94-2.06-.94L8.5 2.5l-.94 2.06-2.06.94zm10 10l.94 2.06.94-2.06 2.06-.94-2.06-.94-.94-2.06-.94 2.06-2.06.94z\"/><path d=\"M17.41 7.96l-1.37-1.37c-.4-.4-.92-.59-1.43-.59-.52 0-1.04.2-1.43.59L10.3 9.45l-7.72 7.72c-.78.78-.78 2.05 0 2.83L4 21.41c.39.39.9.59 1.41.59.51 0 1.02-.2 1.41-.59l7.78-7.78 2.81-2.81c.8-.78.8-2.07 0-2.86zM5.41 20L4 18.59l7.72-7.72 1.47 1.35L5.41 20z\"/>\n",
              "  </svg>\n",
              "      </button>\n",
              "      \n",
              "  <style>\n",
              "    .colab-df-container {\n",
              "      display:flex;\n",
              "      flex-wrap:wrap;\n",
              "      gap: 12px;\n",
              "    }\n",
              "\n",
              "    .colab-df-convert {\n",
              "      background-color: #E8F0FE;\n",
              "      border: none;\n",
              "      border-radius: 50%;\n",
              "      cursor: pointer;\n",
              "      display: none;\n",
              "      fill: #1967D2;\n",
              "      height: 32px;\n",
              "      padding: 0 0 0 0;\n",
              "      width: 32px;\n",
              "    }\n",
              "\n",
              "    .colab-df-convert:hover {\n",
              "      background-color: #E2EBFA;\n",
              "      box-shadow: 0px 1px 2px rgba(60, 64, 67, 0.3), 0px 1px 3px 1px rgba(60, 64, 67, 0.15);\n",
              "      fill: #174EA6;\n",
              "    }\n",
              "\n",
              "    [theme=dark] .colab-df-convert {\n",
              "      background-color: #3B4455;\n",
              "      fill: #D2E3FC;\n",
              "    }\n",
              "\n",
              "    [theme=dark] .colab-df-convert:hover {\n",
              "      background-color: #434B5C;\n",
              "      box-shadow: 0px 1px 3px 1px rgba(0, 0, 0, 0.15);\n",
              "      filter: drop-shadow(0px 1px 2px rgba(0, 0, 0, 0.3));\n",
              "      fill: #FFFFFF;\n",
              "    }\n",
              "  </style>\n",
              "\n",
              "      <script>\n",
              "        const buttonEl =\n",
              "          document.querySelector('#df-eca18a8d-d768-4b09-9d8b-ac8370a99c76 button.colab-df-convert');\n",
              "        buttonEl.style.display =\n",
              "          google.colab.kernel.accessAllowed ? 'block' : 'none';\n",
              "\n",
              "        async function convertToInteractive(key) {\n",
              "          const element = document.querySelector('#df-eca18a8d-d768-4b09-9d8b-ac8370a99c76');\n",
              "          const dataTable =\n",
              "            await google.colab.kernel.invokeFunction('convertToInteractive',\n",
              "                                                     [key], {});\n",
              "          if (!dataTable) return;\n",
              "\n",
              "          const docLinkHtml = 'Like what you see? Visit the ' +\n",
              "            '<a target=\"_blank\" href=https://colab.research.google.com/notebooks/data_table.ipynb>data table notebook</a>'\n",
              "            + ' to learn more about interactive tables.';\n",
              "          element.innerHTML = '';\n",
              "          dataTable['output_type'] = 'display_data';\n",
              "          await google.colab.output.renderOutput(dataTable, element);\n",
              "          const docLink = document.createElement('div');\n",
              "          docLink.innerHTML = docLinkHtml;\n",
              "          element.appendChild(docLink);\n",
              "        }\n",
              "      </script>\n",
              "    </div>\n",
              "  </div>\n",
              "  "
            ]
          },
          "metadata": {},
          "execution_count": 18
        }
      ]
    },
    {
      "cell_type": "markdown",
      "source": [
        "### Cold Start Problem"
      ],
      "metadata": {
        "id": "j31d4CXz_2q3"
      }
    },
    {
      "cell_type": "markdown",
      "source": [
        "For the cold start problem (new users with no history or guests with no accounts), we'll use aggregates about the movies to show the highest rated movies and most viewed movies (since we don't have the count of views, we'll use the count of ratings instead)\n",
        "\n",
        "\n",
        "We'll create a custom class to handle this.<br>\n",
        "We'll use thresholds to weed out movies with few ratings and movies with low ratings"
      ],
      "metadata": {
        "id": "BzKY7RcT_6RF"
      }
    },
    {
      "cell_type": "code",
      "source": [
        "class MovieData:\n",
        "  def __init__(self, data, rating_threshold, count_threshold):\n",
        "    self.rating_threshold = rating_threshold\n",
        "    self.count_threshold = count_threshold\n",
        "    self.data = data\n",
        "\n",
        "  def get_highest_rated(self, n=20):\n",
        "    # Return top n rated movies rated at least self.count_threhold times\n",
        "    ratings_count = self.data.groupby(['movieTitle'])['rating'].count()\n",
        "    popular_movies = ratings_count[ratings_count>self.count_threshold].index\n",
        "    highest_rated_movies = self.data[self.data['movieTitle'].isin(popular_movies)].groupby('movieTitle').mean('rating')['rating'].sort_values(ascending=False)[:n]\n",
        "    return highest_rated_movies\n",
        "\n",
        "  def get_most_rated(self, n=20):\n",
        "    # Return top n most rated movies with average rating more than self.rating_threhold times\n",
        "    average_rating = self.data.groupby(['movieTitle'])['rating'].mean('rating')\n",
        "    popular_movies = average_rating[average_rating>self.rating_threshold].index\n",
        "    most_rated_movies = self.data[self.data['movieTitle'].isin(popular_movies)].groupby('movieTitle').count()['userId'].sort_values(ascending=False)[:n]\n",
        "    return most_rated_movies"
      ],
      "metadata": {
        "id": "8CizyCdS8__j"
      },
      "execution_count": 19,
      "outputs": []
    },
    {
      "cell_type": "markdown",
      "source": [
        "## Data Preparation"
      ],
      "metadata": {
        "id": "EaG_BCFbkjUD"
      }
    },
    {
      "cell_type": "markdown",
      "source": [
        "We'll create a tf dataset object for our train and test sets"
      ],
      "metadata": {
        "id": "SoLYZEBuAfYx"
      }
    },
    {
      "cell_type": "code",
      "source": [
        "train_interaction_dataset = tf.data.Dataset.from_tensor_slices({'userId':train['userId'].values, 'movieTitle': train['movieTitle'].values})\n",
        "valid_interaction_dataset = tf.data.Dataset.from_tensor_slices({'userId':valid['userId'].values, 'movieTitle': valid['movieTitle'].values})\n",
        "test_interaction_dataset = tf.data.Dataset.from_tensor_slices({'userId':test['userId'].values, 'movieTitle': test['movieTitle'].values})\n",
        "train_interaction_dataset"
      ],
      "metadata": {
        "colab": {
          "base_uri": "https://localhost:8080/"
        },
        "outputId": "5ab84302-2027-4165-ce95-4626afbbb9bf",
        "id": "h6bR0rsJ11m_"
      },
      "execution_count": 20,
      "outputs": [
        {
          "output_type": "execute_result",
          "data": {
            "text/plain": [
              "<_TensorSliceDataset element_spec={'userId': TensorSpec(shape=(), dtype=tf.string, name=None), 'movieTitle': TensorSpec(shape=(), dtype=tf.string, name=None)}>"
            ]
          },
          "metadata": {},
          "execution_count": 20
        }
      ]
    },
    {
      "cell_type": "code",
      "source": [
        "movie_dataset = tf.data.Dataset.from_tensor_slices(movies['movieTitle'].values)\n",
        "movie_dataset"
      ],
      "metadata": {
        "colab": {
          "base_uri": "https://localhost:8080/"
        },
        "outputId": "2d779c0a-181e-4c06-8027-4d0f037826a9",
        "id": "sRXBt0o011nA"
      },
      "execution_count": 21,
      "outputs": [
        {
          "output_type": "execute_result",
          "data": {
            "text/plain": [
              "<_TensorSliceDataset element_spec=TensorSpec(shape=(), dtype=tf.string, name=None)>"
            ]
          },
          "metadata": {},
          "execution_count": 21
        }
      ]
    },
    {
      "cell_type": "code",
      "source": [
        "user_ids_vocabulary = tf.keras.layers.StringLookup(mask_token=None, name='users_lookup')\n",
        "movie_titles_vocabulary = tf.keras.layers.StringLookup(mask_token=None, name='movies_lookup')"
      ],
      "metadata": {
        "id": "wRnkJTnouAnc"
      },
      "execution_count": 22,
      "outputs": []
    },
    {
      "cell_type": "code",
      "source": [
        "user_ids_vocabulary.adapt(train_interaction_dataset.map(lambda x: x['userId']))"
      ],
      "metadata": {
        "id": "NHskzAhwuGsJ"
      },
      "execution_count": 23,
      "outputs": []
    },
    {
      "cell_type": "code",
      "source": [
        "movie_titles_vocabulary.adapt(movie_dataset.map(lambda x: x))"
      ],
      "metadata": {
        "id": "UEQj2OyYMpjI"
      },
      "execution_count": 24,
      "outputs": []
    },
    {
      "cell_type": "code",
      "source": [
        "n_users = user_ids_vocabulary.vocabulary_size()\n",
        "n_movies = movie_titles_vocabulary.vocabulary_size()\n",
        "n_users, n_movies"
      ],
      "metadata": {
        "colab": {
          "base_uri": "https://localhost:8080/"
        },
        "id": "IWzCq8vwqKAO",
        "outputId": "a4766fdc-0f93-48e5-928d-ba781c0e31e6"
      },
      "execution_count": 25,
      "outputs": [
        {
          "output_type": "execute_result",
          "data": {
            "text/plain": [
              "(611, 9738)"
            ]
          },
          "metadata": {},
          "execution_count": 25
        }
      ]
    },
    {
      "cell_type": "markdown",
      "metadata": {
        "id": "Lrch6rVBOB9Q"
      },
      "source": [
        "## Define a model\n",
        "We will use matrix factorization model without context features.\n",
        "We can define a TFRS model by inheriting from `tfrs.Model` and implementing the `compute_loss` method:"
      ]
    },
    {
      "cell_type": "markdown",
      "source": [
        "The task is a convenient object that wraps both the loss and the metrics"
      ],
      "metadata": {
        "id": "9f2XJPNaAohY"
      }
    },
    {
      "cell_type": "code",
      "execution_count": 26,
      "metadata": {
        "id": "e5dNbDZwOIHR"
      },
      "outputs": [],
      "source": [
        "class MovieLensModel(tfrs.Model):\n",
        "  def __init__(self, user_model: tf.keras.Model, movie_model: tf.keras.Model, task: tfrs.tasks.Retrieval):\n",
        "    super().__init__()\n",
        "\n",
        "    # Set up user and movie representations.\n",
        "    self.user_model = user_model\n",
        "    self.movie_model = movie_model\n",
        "\n",
        "    # Set up a retrieval task.\n",
        "    self.task = task\n",
        "\n",
        "  def compute_loss(self, features: Dict[Text, tf.Tensor], training=False) -> tf.Tensor:\n",
        "    # Define how the loss is computed.\n",
        "    user_embeddings = self.user_model(features[\"userId\"])\n",
        "    movie_embeddings = self.movie_model(features[\"movieTitle\"])\n",
        "    return self.task(user_embeddings, movie_embeddings)"
      ]
    },
    {
      "cell_type": "markdown",
      "metadata": {
        "id": "wdwtgUCEOI8y"
      },
      "source": [
        "Define the two models and the retrieval task."
      ]
    },
    {
      "cell_type": "code",
      "source": [
        "movie_model = tf.keras.Sequential([\n",
        "    movie_titles_vocabulary,\n",
        "    tf.keras.layers.Embedding(n_movies, 64, name='movie_embedding')\n",
        "], name='movie_model')"
      ],
      "metadata": {
        "id": "AL0p56OGNeS1"
      },
      "execution_count": 27,
      "outputs": []
    },
    {
      "cell_type": "code",
      "source": [
        "user_model = tf.keras.Sequential([\n",
        "    user_ids_vocabulary,\n",
        "    tf.keras.layers.Embedding(n_users, 64, name='user_embedding')\n",
        "], name='user_model')"
      ],
      "metadata": {
        "id": "90Ksu3nTNeS2"
      },
      "execution_count": 28,
      "outputs": []
    },
    {
      "cell_type": "markdown",
      "source": [
        "ks is the k for top_k metrics. We use multiple ks"
      ],
      "metadata": {
        "id": "WXM-rOyTAwNu"
      }
    },
    {
      "cell_type": "code",
      "source": [
        "task = tfrs.tasks.Retrieval(metrics=tfrs.metrics.FactorizedTopK(\n",
        "    candidates=movie_dataset.batch(128).map(movie_model),\n",
        "    ks = (1, 5, 10)\n",
        "  )\n",
        ")"
      ],
      "metadata": {
        "id": "ZpmNCMvgrq6y"
      },
      "execution_count": 29,
      "outputs": []
    },
    {
      "cell_type": "markdown",
      "metadata": {
        "id": "BMV0HpzmJGWk"
      },
      "source": [
        "## Fit and evaluate it.\n",
        "\n",
        "Create the model, train it, and generate predictions:\n",
        "\n"
      ]
    },
    {
      "cell_type": "code",
      "source": [
        "model = MovieLensModel(user_model, movie_model, task)\n",
        "model.compile(optimizer=tf.keras.optimizers.Adagrad(learning_rate=0.01))"
      ],
      "metadata": {
        "id": "5tNGoZcVsRjb"
      },
      "execution_count": 30,
      "outputs": []
    },
    {
      "cell_type": "code",
      "source": [
        "model.fit(train_interaction_dataset.batch(4096), epochs=15, validation_data=valid_interaction_dataset.batch(1024))"
      ],
      "metadata": {
        "id": "09g9rkwcvieN"
      },
      "execution_count": null,
      "outputs": []
    },
    {
      "cell_type": "code",
      "source": [
        "model.evaluate(test_interaction_dataset.batch(1024))"
      ],
      "metadata": {
        "colab": {
          "base_uri": "https://localhost:8080/"
        },
        "id": "6atHi6wqq9HD",
        "outputId": "06b62e00-91e5-40ea-ee48-dce7182b9341"
      },
      "execution_count": 33,
      "outputs": [
        {
          "output_type": "stream",
          "name": "stdout",
          "text": [
            "16/16 [==============================] - 6s 322ms/step - factorized_top_k/top_1_categorical_accuracy: 4.4906e-04 - factorized_top_k/top_5_categorical_accuracy: 0.0106 - factorized_top_k/top_10_categorical_accuracy: 0.0238 - loss: 6234.4610 - regularization_loss: 0.0000e+00 - total_loss: 6234.4610\n"
          ]
        },
        {
          "output_type": "execute_result",
          "data": {
            "text/plain": [
              "[0.000449063372798264,\n",
              " 0.010649217292666435,\n",
              " 0.023800360038876534,\n",
              " 1193.6904296875,\n",
              " 0,\n",
              " 1193.6904296875]"
            ]
          },
          "metadata": {},
          "execution_count": 33
        }
      ]
    },
    {
      "cell_type": "markdown",
      "source": [
        "## Indexers"
      ],
      "metadata": {
        "id": "Q3dGH_I7A_ZO"
      }
    },
    {
      "cell_type": "markdown",
      "source": [
        "Indexers use store the embedding of the possible candidates as keys. When it receives a query, it embeds the query and retrieves the closest keys.\n",
        "\n",
        "For our recommendation task, it stores the embeddings of movies and the embedding of users. When we want to recommend for a user, it gets the movies whose embedding are the most similar (using dot product) to the user."
      ],
      "metadata": {
        "id": "FTzjq0qLBCEX"
      }
    },
    {
      "cell_type": "code",
      "execution_count": 34,
      "metadata": {
        "id": "neJAJVwbReNd"
      },
      "outputs": [],
      "source": [
        "# Use brute-force search to set up retrieval using the trained representations.\n",
        "user_recommender = tfrs.layers.factorized_top_k.BruteForce(model.user_model, k=100)"
      ]
    },
    {
      "cell_type": "code",
      "source": [
        "user_recommender.index_from_dataset(\n",
        "    movie_dataset.batch(100).map(lambda title: (title, model.movie_model(title))))"
      ],
      "metadata": {
        "colab": {
          "base_uri": "https://localhost:8080/"
        },
        "id": "_GXqrR69UeWl",
        "outputId": "f60c5f94-2a03-491c-e5a5-af82b3bf839a"
      },
      "execution_count": 35,
      "outputs": [
        {
          "output_type": "execute_result",
          "data": {
            "text/plain": [
              "<tensorflow_recommenders.layers.factorized_top_k.BruteForce at 0x7fe0b4281ff0>"
            ]
          },
          "metadata": {},
          "execution_count": 35
        }
      ]
    },
    {
      "cell_type": "code",
      "source": [
        "# Get some recommendations.\n",
        "_, titles = user_recommender(tf.constant([\"42\"]))\n",
        "print(f\"Top 3 recommendations for user 42: {titles.shape}\")"
      ],
      "metadata": {
        "colab": {
          "base_uri": "https://localhost:8080/"
        },
        "id": "gHnxsVx1UfmF",
        "outputId": "094eae41-d111-4dc0-f436-aba763633c53"
      },
      "execution_count": 36,
      "outputs": [
        {
          "output_type": "stream",
          "name": "stdout",
          "text": [
            "Top 3 recommendations for user 42: (1, 100)\n"
          ]
        }
      ]
    },
    {
      "cell_type": "markdown",
      "source": [
        "#### Item-Item recommendation"
      ],
      "metadata": {
        "id": "VPI7iMrtBfvk"
      }
    },
    {
      "cell_type": "markdown",
      "source": [
        "For items similarity, we can use the embedding of movies as both query and keys"
      ],
      "metadata": {
        "id": "ugcrEkD8BjJu"
      }
    },
    {
      "cell_type": "code",
      "source": [
        "movie_recommender = tfrs.layers.factorized_top_k.BruteForce(model.movie_model, k=100)"
      ],
      "metadata": {
        "id": "mb_nnuziM73X"
      },
      "execution_count": 37,
      "outputs": []
    },
    {
      "cell_type": "code",
      "source": [
        "movie_recommender.index_from_dataset(\n",
        "    movie_dataset.batch(100).map(lambda title: (title, model.movie_model(title))))"
      ],
      "metadata": {
        "colab": {
          "base_uri": "https://localhost:8080/"
        },
        "id": "kbX-Uob8NH9y",
        "outputId": "69410460-7a5a-4979-df43-76cf8b9ffe25"
      },
      "execution_count": 38,
      "outputs": [
        {
          "output_type": "execute_result",
          "data": {
            "text/plain": [
              "<tensorflow_recommenders.layers.factorized_top_k.BruteForce at 0x7fe0b4280dc0>"
            ]
          },
          "metadata": {},
          "execution_count": 38
        }
      ]
    },
    {
      "cell_type": "code",
      "source": [
        "# Get some recommendations.\n",
        "_, titles2 = movie_recommender(tf.constant([\"Freaky Friday (2003)\"]))\n",
        "print(f\"Top 3 recommendations for movie 42: {titles2.shape}\")"
      ],
      "metadata": {
        "colab": {
          "base_uri": "https://localhost:8080/"
        },
        "id": "Fy8ijm54PYuX",
        "outputId": "d54dc157-f04a-497a-f02f-c59721324fb5"
      },
      "execution_count": 39,
      "outputs": [
        {
          "output_type": "stream",
          "name": "stdout",
          "text": [
            "Top 3 recommendations for movie 42: (1, 100)\n"
          ]
        }
      ]
    },
    {
      "cell_type": "code",
      "source": [
        "# Get some recommendations.\n",
        "_, titles2 = movie_recommender(tf.constant([\"Freaky Friday (2003)\"]), k=25)\n",
        "print(f\"Top 3 recommendations for movie 42: {titles2.shape}\")"
      ],
      "metadata": {
        "colab": {
          "base_uri": "https://localhost:8080/"
        },
        "id": "Ym-Ppz3OthFI",
        "outputId": "140ee46a-f9f2-4d12-ed51-71fb4ee1acaa"
      },
      "execution_count": 40,
      "outputs": [
        {
          "output_type": "stream",
          "name": "stdout",
          "text": [
            "Top 3 recommendations for movie 42: (1, 25)\n"
          ]
        }
      ]
    },
    {
      "cell_type": "markdown",
      "source": [
        "## Saving the models"
      ],
      "metadata": {
        "id": "7d3vv_Kr7rQn"
      }
    },
    {
      "cell_type": "code",
      "source": [
        "user_recommender.save('user_model')\n",
        "movie_recommender.save('movie_model')"
      ],
      "metadata": {
        "colab": {
          "base_uri": "https://localhost:8080/"
        },
        "id": "1LVFawoR7uTY",
        "outputId": "6c68e168-be84-4c0e-9e96-9b17bfe0f2d6"
      },
      "execution_count": 41,
      "outputs": [
        {
          "output_type": "stream",
          "name": "stderr",
          "text": [
            "WARNING:tensorflow:Model's `__init__()` arguments contain non-serializable objects. Please implement a `get_config()` method in the subclassed Model for proper saving and loading. Defaulting to empty config.\n",
            "WARNING:tensorflow:Model's `__init__()` arguments contain non-serializable objects. Please implement a `get_config()` method in the subclassed Model for proper saving and loading. Defaulting to empty config.\n",
            "WARNING:absl:Found untraced functions such as query_with_exclusions while saving (showing 1 of 1). These functions will not be directly callable after loading.\n",
            "WARNING:tensorflow:Model's `__init__()` arguments contain non-serializable objects. Please implement a `get_config()` method in the subclassed Model for proper saving and loading. Defaulting to empty config.\n",
            "WARNING:tensorflow:Model's `__init__()` arguments contain non-serializable objects. Please implement a `get_config()` method in the subclassed Model for proper saving and loading. Defaulting to empty config.\n",
            "WARNING:tensorflow:Model's `__init__()` arguments contain non-serializable objects. Please implement a `get_config()` method in the subclassed Model for proper saving and loading. Defaulting to empty config.\n",
            "WARNING:tensorflow:Model's `__init__()` arguments contain non-serializable objects. Please implement a `get_config()` method in the subclassed Model for proper saving and loading. Defaulting to empty config.\n",
            "WARNING:absl:Found untraced functions such as query_with_exclusions while saving (showing 1 of 1). These functions will not be directly callable after loading.\n",
            "WARNING:tensorflow:Model's `__init__()` arguments contain non-serializable objects. Please implement a `get_config()` method in the subclassed Model for proper saving and loading. Defaulting to empty config.\n",
            "WARNING:tensorflow:Model's `__init__()` arguments contain non-serializable objects. Please implement a `get_config()` method in the subclassed Model for proper saving and loading. Defaulting to empty config.\n"
          ]
        }
      ]
    },
    {
      "cell_type": "code",
      "source": [
        "tmp1 = tf.keras.models.load_model('user_model')\n",
        "tmp2 = tf.keras.models.load_model('movie_model')"
      ],
      "metadata": {
        "colab": {
          "base_uri": "https://localhost:8080/"
        },
        "id": "x10fuwFg711U",
        "outputId": "ab2fd845-4552-4475-85cc-3e199608add9"
      },
      "execution_count": 42,
      "outputs": [
        {
          "output_type": "stream",
          "name": "stderr",
          "text": [
            "WARNING:tensorflow:No training configuration found in save file, so the model was *not* compiled. Compile it manually.\n",
            "WARNING:tensorflow:No training configuration found in save file, so the model was *not* compiled. Compile it manually.\n"
          ]
        }
      ]
    },
    {
      "cell_type": "code",
      "source": [
        "# Get some recommendations.\n",
        "_, titles = tmp1(tf.constant([\"42\"]))\n",
        "print(f\"Top 3 recommendations for user 42: {titles.shape}\")"
      ],
      "metadata": {
        "colab": {
          "base_uri": "https://localhost:8080/"
        },
        "id": "YcEvv-XP8GyX",
        "outputId": "6af0f13f-3e94-48ee-ff76-85edfab8b3c0"
      },
      "execution_count": 43,
      "outputs": [
        {
          "output_type": "stream",
          "name": "stdout",
          "text": [
            "Top 3 recommendations for user 42: (1, 100)\n"
          ]
        }
      ]
    },
    {
      "cell_type": "code",
      "source": [
        "# Get some recommendations.\n",
        "_, titles2 = tmp2(tf.constant([\"Freaky Friday (2003)\"]))\n",
        "print(f\"Top 3 recommendations for movie 42: {titles2[0, :10]}\")"
      ],
      "metadata": {
        "colab": {
          "base_uri": "https://localhost:8080/"
        },
        "id": "4Yo5ZIsY8Jx3",
        "outputId": "262e2e1c-b474-4da1-a0a4-351b45b64819"
      },
      "execution_count": 44,
      "outputs": [
        {
          "output_type": "stream",
          "name": "stdout",
          "text": [
            "Top 3 recommendations for movie 42: [b'Dracula: Dead and Loving It (1995)' b'Little Women (1994)'\n",
            " b'Natural Born Killers (1994)' b'Man of the House (1995)' b'Safe (1995)'\n",
            " b'Boys of St. Vincent, The (1992)' b'Copycat (1995)'\n",
            " b'Street Fighter (1994)' b'North (1994)'\n",
            " b'New York Cop (Ny\\xc3\\xbb Y\\xc3\\xb4ku no koppu) (1993)']\n"
          ]
        }
      ]
    },
    {
      "cell_type": "markdown",
      "source": [
        "# Explicit rating"
      ],
      "metadata": {
        "id": "jkYqtqcNFKBV"
      }
    },
    {
      "cell_type": "markdown",
      "source": [
        "## Data Prepatation"
      ],
      "metadata": {
        "id": "X58OruuYFt2s"
      }
    },
    {
      "cell_type": "code",
      "source": [
        "train_rating_dataset = tf.data.Dataset.from_tensor_slices({'userId':train['userId'].values, 'movieTitle': train['movieTitle'].values, 'rating': train['rating'].values})\n",
        "valid_rating_dataset = tf.data.Dataset.from_tensor_slices({'userId':valid['userId'].values, 'movieTitle': valid['movieTitle'].values, 'rating': valid['rating'].values})\n",
        "test_rating_dataset = tf.data.Dataset.from_tensor_slices({'userId':test['userId'].values, 'movieTitle': test['movieTitle'].values, 'rating': test['rating'].values})\n",
        "train_rating_dataset"
      ],
      "metadata": {
        "colab": {
          "base_uri": "https://localhost:8080/"
        },
        "id": "PuiVqj_vFOU1",
        "outputId": "f53f9b3f-72d0-42db-bb91-650951cb61c2"
      },
      "execution_count": 45,
      "outputs": [
        {
          "output_type": "execute_result",
          "data": {
            "text/plain": [
              "<_TensorSliceDataset element_spec={'userId': TensorSpec(shape=(), dtype=tf.string, name=None), 'movieTitle': TensorSpec(shape=(), dtype=tf.string, name=None), 'rating': TensorSpec(shape=(), dtype=tf.float64, name=None)}>"
            ]
          },
          "metadata": {},
          "execution_count": 45
        }
      ]
    },
    {
      "cell_type": "code",
      "source": [
        "# user_ids_vocabulary.adapt(train_rating_dataset.map(lambda x: x['userId']))"
      ],
      "metadata": {
        "id": "MabLW_CEMUWn"
      },
      "execution_count": 46,
      "outputs": []
    },
    {
      "cell_type": "code",
      "source": [
        "# movie_titles_vocabulary.adapt(movie_dataset.map(lambda x: x))"
      ],
      "metadata": {
        "id": "1Ab9OgACMUWn"
      },
      "execution_count": 47,
      "outputs": []
    },
    {
      "cell_type": "code",
      "source": [
        "# n_users = user_ids_vocabulary.vocabulary_size()\n",
        "# n_movies = movie_titles_vocabulary.vocabulary_size()\n",
        "# n_users, n_movies"
      ],
      "metadata": {
        "id": "OKp9tGC3MUWn"
      },
      "execution_count": 48,
      "outputs": []
    },
    {
      "cell_type": "markdown",
      "source": [
        "## Define model"
      ],
      "metadata": {
        "id": "lesKfVayFvli"
      }
    },
    {
      "cell_type": "code",
      "source": [
        "ranking_task = tfrs.tasks.Ranking(\n",
        "      loss = tf.keras.losses.MeanSquaredError(),\n",
        "      metrics=[tf.keras.metrics.RootMeanSquaredError()]\n",
        "    )"
      ],
      "metadata": {
        "id": "OCw39lK8GZ-_"
      },
      "execution_count": 49,
      "outputs": []
    },
    {
      "cell_type": "code",
      "source": [
        "rating_model = tf.keras.Sequential([\n",
        "    tf.keras.layers.Dense(256, activation='relu'),\n",
        "    tf.keras.layers.Dense(64,  activation='relu'),\n",
        "    tf.keras.layers.Dense(1)\n",
        "], name='raing_model')"
      ],
      "metadata": {
        "id": "3Rk14hLWGaYv"
      },
      "execution_count": 50,
      "outputs": []
    },
    {
      "cell_type": "code",
      "source": [
        "explicit_movie_model = tf.keras.Sequential([\n",
        "    movie_titles_vocabulary,\n",
        "    tf.keras.layers.Embedding(n_movies, 64, name='movie_embedding')\n",
        "], name='movie_model')"
      ],
      "metadata": {
        "id": "kyTH12nfMMRR"
      },
      "execution_count": 51,
      "outputs": []
    },
    {
      "cell_type": "code",
      "source": [
        "explicit_user_model = tf.keras.Sequential([\n",
        "    user_ids_vocabulary,\n",
        "    tf.keras.layers.Embedding(n_users, 64, name='user_embedding')\n",
        "], name='user_model')"
      ],
      "metadata": {
        "id": "aL27lNSsMMRR"
      },
      "execution_count": 52,
      "outputs": []
    },
    {
      "cell_type": "code",
      "source": [
        "class ExplicitMovieLensModel(tfrs.Model):\n",
        "  def __init__(self, user_model: tf.keras.Model, movie_model: tf.keras.Model, rating_model:tf.keras.Model, task: tfrs.tasks.Retrieval):\n",
        "    super().__init__()\n",
        "\n",
        "    # Set up user and movie representations.\n",
        "    self.user_model = user_model\n",
        "    self.movie_model = movie_model\n",
        "\n",
        "        # Compute predictions.\n",
        "    self.rating_model = rating_model\n",
        "\n",
        "    # Set up a ranking task.\n",
        "    self.task = task\n",
        "\n",
        "  def call(self, features: Dict[str, tf.Tensor]) -> tf.Tensor:\n",
        "    user_embeddings = self.user_model(features[\"userId\"])\n",
        "    movie_embeddings = self.movie_model(features[\"movieTitle\"])\n",
        "    return self.rating_model(tf.concat([user_embeddings, movie_embeddings], axis=1))\n",
        "\n",
        "  def compute_loss(self, features: Dict[Text, tf.Tensor], training=False) -> tf.Tensor:\n",
        "    labels = features.pop(\"rating\")\n",
        "\n",
        "    rating_predictions = self(features)\n",
        "\n",
        "    # The task computes the loss and the metrics.\n",
        "    return self.task(labels=labels, predictions=rating_predictions)"
      ],
      "metadata": {
        "id": "ShsW910MF4Qy"
      },
      "execution_count": 53,
      "outputs": []
    },
    {
      "cell_type": "code",
      "source": [
        "explicit_model = ExplicitMovieLensModel(user_model=explicit_user_model, movie_model=explicit_movie_model, rating_model=rating_model, task=ranking_task)\n",
        "explicit_model.compile(optimizer=tf.keras.optimizers.Adagrad(learning_rate=0.05))"
      ],
      "metadata": {
        "id": "Fbw7_TETLy2w"
      },
      "execution_count": 54,
      "outputs": []
    },
    {
      "cell_type": "code",
      "source": [
        "explicit_model.fit(train_rating_dataset.batch(4096), epochs=40, validation_data=valid_rating_dataset.batch(1024))"
      ],
      "metadata": {
        "colab": {
          "base_uri": "https://localhost:8080/"
        },
        "id": "U3wvyygHTte6",
        "outputId": "bb1568dc-c1c4-4a5c-d099-513a62101244"
      },
      "execution_count": 55,
      "outputs": [
        {
          "output_type": "stream",
          "name": "stdout",
          "text": [
            "Epoch 1/40\n",
            "14/14 [==============================] - 2s 55ms/step - root_mean_squared_error: 1.8356 - loss: 3.1728 - regularization_loss: 0.0000e+00 - total_loss: 3.1728 - val_root_mean_squared_error: 1.0491 - val_loss: 1.1184 - val_regularization_loss: 0.0000e+00 - val_total_loss: 1.1184\n",
            "Epoch 2/40\n",
            "14/14 [==============================] - 1s 49ms/step - root_mean_squared_error: 1.0398 - loss: 1.0796 - regularization_loss: 0.0000e+00 - total_loss: 1.0796 - val_root_mean_squared_error: 1.0321 - val_loss: 1.0817 - val_regularization_loss: 0.0000e+00 - val_total_loss: 1.0817\n",
            "Epoch 3/40\n",
            "14/14 [==============================] - 1s 53ms/step - root_mean_squared_error: 1.0235 - loss: 1.0459 - regularization_loss: 0.0000e+00 - total_loss: 1.0459 - val_root_mean_squared_error: 1.0166 - val_loss: 1.0397 - val_regularization_loss: 0.0000e+00 - val_total_loss: 1.0397\n",
            "Epoch 4/40\n",
            "14/14 [==============================] - 1s 49ms/step - root_mean_squared_error: 1.0065 - loss: 1.0112 - regularization_loss: 0.0000e+00 - total_loss: 1.0112 - val_root_mean_squared_error: 1.0007 - val_loss: 0.9957 - val_regularization_loss: 0.0000e+00 - val_total_loss: 0.9957\n",
            "Epoch 5/40\n",
            "14/14 [==============================] - 1s 51ms/step - root_mean_squared_error: 0.9896 - loss: 0.9775 - regularization_loss: 0.0000e+00 - total_loss: 0.9775 - val_root_mean_squared_error: 0.9863 - val_loss: 0.9578 - val_regularization_loss: 0.0000e+00 - val_total_loss: 0.9578\n",
            "Epoch 6/40\n",
            "14/14 [==============================] - 1s 49ms/step - root_mean_squared_error: 0.9746 - loss: 0.9483 - regularization_loss: 0.0000e+00 - total_loss: 0.9483 - val_root_mean_squared_error: 0.9745 - val_loss: 0.9297 - val_regularization_loss: 0.0000e+00 - val_total_loss: 0.9297\n",
            "Epoch 7/40\n",
            "14/14 [==============================] - 1s 43ms/step - root_mean_squared_error: 0.9621 - loss: 0.9241 - regularization_loss: 0.0000e+00 - total_loss: 0.9241 - val_root_mean_squared_error: 0.9650 - val_loss: 0.9090 - val_regularization_loss: 0.0000e+00 - val_total_loss: 0.9090\n",
            "Epoch 8/40\n",
            "14/14 [==============================] - 1s 64ms/step - root_mean_squared_error: 0.9515 - loss: 0.9037 - regularization_loss: 0.0000e+00 - total_loss: 0.9037 - val_root_mean_squared_error: 0.9572 - val_loss: 0.8926 - val_regularization_loss: 0.0000e+00 - val_total_loss: 0.8926\n",
            "Epoch 9/40\n",
            "14/14 [==============================] - 1s 90ms/step - root_mean_squared_error: 0.9428 - loss: 0.8872 - regularization_loss: 0.0000e+00 - total_loss: 0.8872 - val_root_mean_squared_error: 0.9521 - val_loss: 0.8827 - val_regularization_loss: 0.0000e+00 - val_total_loss: 0.8827\n",
            "Epoch 10/40\n",
            "14/14 [==============================] - 1s 45ms/step - root_mean_squared_error: 0.9382 - loss: 0.8785 - regularization_loss: 0.0000e+00 - total_loss: 0.8785 - val_root_mean_squared_error: 0.9517 - val_loss: 0.8819 - val_regularization_loss: 0.0000e+00 - val_total_loss: 0.8819\n",
            "Epoch 11/40\n",
            "14/14 [==============================] - 1s 45ms/step - root_mean_squared_error: 0.9334 - loss: 0.8685 - regularization_loss: 0.0000e+00 - total_loss: 0.8685 - val_root_mean_squared_error: 0.9427 - val_loss: 0.8544 - val_regularization_loss: 0.0000e+00 - val_total_loss: 0.8544\n",
            "Epoch 12/40\n",
            "14/14 [==============================] - 1s 49ms/step - root_mean_squared_error: 0.9198 - loss: 0.8434 - regularization_loss: 0.0000e+00 - total_loss: 0.8434 - val_root_mean_squared_error: 0.9319 - val_loss: 0.8205 - val_regularization_loss: 0.0000e+00 - val_total_loss: 0.8205\n",
            "Epoch 13/40\n",
            "14/14 [==============================] - 1s 47ms/step - root_mean_squared_error: 0.9090 - loss: 0.8239 - regularization_loss: 0.0000e+00 - total_loss: 0.8239 - val_root_mean_squared_error: 0.9252 - val_loss: 0.7983 - val_regularization_loss: 0.0000e+00 - val_total_loss: 0.7983\n",
            "Epoch 14/40\n",
            "14/14 [==============================] - 1s 48ms/step - root_mean_squared_error: 0.9012 - loss: 0.8097 - regularization_loss: 0.0000e+00 - total_loss: 0.8097 - val_root_mean_squared_error: 0.9201 - val_loss: 0.7814 - val_regularization_loss: 0.0000e+00 - val_total_loss: 0.7814\n",
            "Epoch 15/40\n",
            "14/14 [==============================] - 1s 44ms/step - root_mean_squared_error: 0.8945 - loss: 0.7976 - regularization_loss: 0.0000e+00 - total_loss: 0.7976 - val_root_mean_squared_error: 0.9157 - val_loss: 0.7664 - val_regularization_loss: 0.0000e+00 - val_total_loss: 0.7664\n",
            "Epoch 16/40\n",
            "14/14 [==============================] - 1s 51ms/step - root_mean_squared_error: 0.8890 - loss: 0.7881 - regularization_loss: 0.0000e+00 - total_loss: 0.7881 - val_root_mean_squared_error: 0.9145 - val_loss: 0.7560 - val_regularization_loss: 0.0000e+00 - val_total_loss: 0.7560\n",
            "Epoch 17/40\n",
            "14/14 [==============================] - 1s 47ms/step - root_mean_squared_error: 0.8988 - loss: 0.8083 - regularization_loss: 0.0000e+00 - total_loss: 0.8083 - val_root_mean_squared_error: 0.9354 - val_loss: 0.7838 - val_regularization_loss: 0.0000e+00 - val_total_loss: 0.7838\n",
            "Epoch 18/40\n",
            "14/14 [==============================] - 2s 141ms/step - root_mean_squared_error: 0.8952 - loss: 0.7970 - regularization_loss: 0.0000e+00 - total_loss: 0.7970 - val_root_mean_squared_error: 0.9092 - val_loss: 0.7409 - val_regularization_loss: 0.0000e+00 - val_total_loss: 0.7409\n",
            "Epoch 19/40\n",
            "14/14 [==============================] - 2s 108ms/step - root_mean_squared_error: 0.8758 - loss: 0.7642 - regularization_loss: 0.0000e+00 - total_loss: 0.7642 - val_root_mean_squared_error: 0.9041 - val_loss: 0.7328 - val_regularization_loss: 0.0000e+00 - val_total_loss: 0.7328\n",
            "Epoch 20/40\n",
            "14/14 [==============================] - 1s 81ms/step - root_mean_squared_error: 0.8703 - loss: 0.7546 - regularization_loss: 0.0000e+00 - total_loss: 0.7546 - val_root_mean_squared_error: 0.9017 - val_loss: 0.7280 - val_regularization_loss: 0.0000e+00 - val_total_loss: 0.7280\n",
            "Epoch 21/40\n",
            "14/14 [==============================] - 1s 64ms/step - root_mean_squared_error: 0.8663 - loss: 0.7476 - regularization_loss: 0.0000e+00 - total_loss: 0.7476 - val_root_mean_squared_error: 0.8998 - val_loss: 0.7242 - val_regularization_loss: 0.0000e+00 - val_total_loss: 0.7242\n",
            "Epoch 22/40\n",
            "14/14 [==============================] - 1s 48ms/step - root_mean_squared_error: 0.8628 - loss: 0.7416 - regularization_loss: 0.0000e+00 - total_loss: 0.7416 - val_root_mean_squared_error: 0.8985 - val_loss: 0.7218 - val_regularization_loss: 0.0000e+00 - val_total_loss: 0.7218\n",
            "Epoch 23/40\n",
            "14/14 [==============================] - 1s 48ms/step - root_mean_squared_error: 0.8602 - loss: 0.7372 - regularization_loss: 0.0000e+00 - total_loss: 0.7372 - val_root_mean_squared_error: 0.8982 - val_loss: 0.7213 - val_regularization_loss: 0.0000e+00 - val_total_loss: 0.7213\n",
            "Epoch 24/40\n",
            "14/14 [==============================] - 1s 53ms/step - root_mean_squared_error: 0.8589 - loss: 0.7349 - regularization_loss: 0.0000e+00 - total_loss: 0.7349 - val_root_mean_squared_error: 0.8988 - val_loss: 0.7231 - val_regularization_loss: 0.0000e+00 - val_total_loss: 0.7231\n",
            "Epoch 25/40\n",
            "14/14 [==============================] - 1s 48ms/step - root_mean_squared_error: 0.8577 - loss: 0.7327 - regularization_loss: 0.0000e+00 - total_loss: 0.7327 - val_root_mean_squared_error: 0.8980 - val_loss: 0.7236 - val_regularization_loss: 0.0000e+00 - val_total_loss: 0.7236\n",
            "Epoch 26/40\n",
            "14/14 [==============================] - 1s 49ms/step - root_mean_squared_error: 0.8541 - loss: 0.7264 - regularization_loss: 0.0000e+00 - total_loss: 0.7264 - val_root_mean_squared_error: 0.8953 - val_loss: 0.7220 - val_regularization_loss: 0.0000e+00 - val_total_loss: 0.7220\n",
            "Epoch 27/40\n",
            "14/14 [==============================] - 1s 87ms/step - root_mean_squared_error: 0.8497 - loss: 0.7189 - regularization_loss: 0.0000e+00 - total_loss: 0.7189 - val_root_mean_squared_error: 0.8930 - val_loss: 0.7216 - val_regularization_loss: 0.0000e+00 - val_total_loss: 0.7216\n",
            "Epoch 28/40\n",
            "14/14 [==============================] - 1s 79ms/step - root_mean_squared_error: 0.8462 - loss: 0.7130 - regularization_loss: 0.0000e+00 - total_loss: 0.7130 - val_root_mean_squared_error: 0.8917 - val_loss: 0.7224 - val_regularization_loss: 0.0000e+00 - val_total_loss: 0.7224\n",
            "Epoch 29/40\n",
            "14/14 [==============================] - 1s 72ms/step - root_mean_squared_error: 0.8436 - loss: 0.7085 - regularization_loss: 0.0000e+00 - total_loss: 0.7085 - val_root_mean_squared_error: 0.8909 - val_loss: 0.7239 - val_regularization_loss: 0.0000e+00 - val_total_loss: 0.7239\n",
            "Epoch 30/40\n",
            "14/14 [==============================] - 1s 66ms/step - root_mean_squared_error: 0.8415 - loss: 0.7050 - regularization_loss: 0.0000e+00 - total_loss: 0.7050 - val_root_mean_squared_error: 0.8905 - val_loss: 0.7259 - val_regularization_loss: 0.0000e+00 - val_total_loss: 0.7259\n",
            "Epoch 31/40\n",
            "14/14 [==============================] - 1s 85ms/step - root_mean_squared_error: 0.8399 - loss: 0.7024 - regularization_loss: 0.0000e+00 - total_loss: 0.7024 - val_root_mean_squared_error: 0.8905 - val_loss: 0.7283 - val_regularization_loss: 0.0000e+00 - val_total_loss: 0.7283\n",
            "Epoch 32/40\n",
            "14/14 [==============================] - 1s 98ms/step - root_mean_squared_error: 0.8388 - loss: 0.7005 - regularization_loss: 0.0000e+00 - total_loss: 0.7005 - val_root_mean_squared_error: 0.8907 - val_loss: 0.7310 - val_regularization_loss: 0.0000e+00 - val_total_loss: 0.7310\n",
            "Epoch 33/40\n",
            "14/14 [==============================] - 1s 104ms/step - root_mean_squared_error: 0.8376 - loss: 0.6985 - regularization_loss: 0.0000e+00 - total_loss: 0.6985 - val_root_mean_squared_error: 0.8905 - val_loss: 0.7331 - val_regularization_loss: 0.0000e+00 - val_total_loss: 0.7331\n",
            "Epoch 34/40\n",
            "14/14 [==============================] - 1s 44ms/step - root_mean_squared_error: 0.8358 - loss: 0.6953 - regularization_loss: 0.0000e+00 - total_loss: 0.6953 - val_root_mean_squared_error: 0.8895 - val_loss: 0.7342 - val_regularization_loss: 0.0000e+00 - val_total_loss: 0.7342\n",
            "Epoch 35/40\n",
            "14/14 [==============================] - 1s 44ms/step - root_mean_squared_error: 0.8334 - loss: 0.6913 - regularization_loss: 0.0000e+00 - total_loss: 0.6913 - val_root_mean_squared_error: 0.8883 - val_loss: 0.7349 - val_regularization_loss: 0.0000e+00 - val_total_loss: 0.7349\n",
            "Epoch 36/40\n",
            "14/14 [==============================] - 1s 45ms/step - root_mean_squared_error: 0.8311 - loss: 0.6875 - regularization_loss: 0.0000e+00 - total_loss: 0.6875 - val_root_mean_squared_error: 0.8874 - val_loss: 0.7359 - val_regularization_loss: 0.0000e+00 - val_total_loss: 0.7359\n",
            "Epoch 37/40\n",
            "14/14 [==============================] - 1s 78ms/step - root_mean_squared_error: 0.8292 - loss: 0.6843 - regularization_loss: 0.0000e+00 - total_loss: 0.6843 - val_root_mean_squared_error: 0.8869 - val_loss: 0.7372 - val_regularization_loss: 0.0000e+00 - val_total_loss: 0.7372\n",
            "Epoch 38/40\n",
            "14/14 [==============================] - 1s 87ms/step - root_mean_squared_error: 0.8277 - loss: 0.6818 - regularization_loss: 0.0000e+00 - total_loss: 0.6818 - val_root_mean_squared_error: 0.8866 - val_loss: 0.7385 - val_regularization_loss: 0.0000e+00 - val_total_loss: 0.7385\n",
            "Epoch 39/40\n",
            "14/14 [==============================] - 1s 62ms/step - root_mean_squared_error: 0.8264 - loss: 0.6797 - regularization_loss: 0.0000e+00 - total_loss: 0.6797 - val_root_mean_squared_error: 0.8866 - val_loss: 0.7399 - val_regularization_loss: 0.0000e+00 - val_total_loss: 0.7399\n",
            "Epoch 40/40\n",
            "14/14 [==============================] - 1s 47ms/step - root_mean_squared_error: 0.8255 - loss: 0.6783 - regularization_loss: 0.0000e+00 - total_loss: 0.6783 - val_root_mean_squared_error: 0.8870 - val_loss: 0.7415 - val_regularization_loss: 0.0000e+00 - val_total_loss: 0.7415\n"
          ]
        },
        {
          "output_type": "execute_result",
          "data": {
            "text/plain": [
              "<keras.callbacks.History at 0x7fe0b51e3d90>"
            ]
          },
          "metadata": {},
          "execution_count": 55
        }
      ]
    },
    {
      "cell_type": "code",
      "source": [
        "explicit_model.evaluate(test_rating_dataset.batch(1024))"
      ],
      "metadata": {
        "colab": {
          "base_uri": "https://localhost:8080/"
        },
        "id": "4JyRiwnqm8ab",
        "outputId": "341281ef-1f09-48a8-e491-c34c769e120b"
      },
      "execution_count": 56,
      "outputs": [
        {
          "output_type": "stream",
          "name": "stdout",
          "text": [
            "16/16 [==============================] - 0s 6ms/step - root_mean_squared_error: 0.8713 - loss: 0.7736 - regularization_loss: 0.0000e+00 - total_loss: 0.7736\n"
          ]
        },
        {
          "output_type": "execute_result",
          "data": {
            "text/plain": [
              "[0.871284544467926, 0.897028923034668, 0, 0.897028923034668]"
            ]
          },
          "metadata": {},
          "execution_count": 56
        }
      ]
    },
    {
      "cell_type": "code",
      "source": [
        "all_movies = movies['movieTitle'].unique().reshape(-1,1)"
      ],
      "metadata": {
        "id": "V0EIvf7da1AI"
      },
      "execution_count": 57,
      "outputs": []
    },
    {
      "cell_type": "code",
      "source": [
        "# Predict rating for all movies\n",
        "preds = explicit_model({\"userId\": tf.tile([['42']], [9737, 1]), \"movieTitle\": all_movies})\n",
        "preds"
      ],
      "metadata": {
        "colab": {
          "base_uri": "https://localhost:8080/"
        },
        "id": "KKSVNey9cZTw",
        "outputId": "ab9ce0f0-5b26-4cde-f882-9207f64e6772"
      },
      "execution_count": 59,
      "outputs": [
        {
          "output_type": "execute_result",
          "data": {
            "text/plain": [
              "<tf.Tensor: shape=(9737, 1), dtype=float32, numpy=\n",
              "array([[3.4965222],\n",
              "       [4.0983405],\n",
              "       [3.6603467],\n",
              "       ...,\n",
              "       [3.8207724],\n",
              "       [3.7071478],\n",
              "       [3.7542446]], dtype=float32)>"
            ]
          },
          "metadata": {},
          "execution_count": 59
        }
      ]
    },
    {
      "cell_type": "code",
      "source": [
        "# Sort movie titles from highest rated to lowest\n",
        "tf.gather(all_movies, tf.squeeze(tf.argsort(preds, axis=0, direction='DESCENDING')))"
      ],
      "metadata": {
        "colab": {
          "base_uri": "https://localhost:8080/"
        },
        "id": "rkQPNaaTcKpA",
        "outputId": "eddc56f5-be43-42d8-9179-07b66b7d6ebc"
      },
      "execution_count": 60,
      "outputs": [
        {
          "output_type": "execute_result",
          "data": {
            "text/plain": [
              "<tf.Tensor: shape=(9737, 1), dtype=string, numpy=\n",
              "array([[b'Cement Garden, The (1993)'],\n",
              "       [b'Leave It to Beaver (1997)'],\n",
              "       [b'Pompatus of Love, The (1996)'],\n",
              "       ...,\n",
              "       [b'Savior (1998)'],\n",
              "       [b'Cobb (1994)'],\n",
              "       [b\"Alice Doesn't Live Here Anymore (1974)\"]], dtype=object)>"
            ]
          },
          "metadata": {},
          "execution_count": 60
        }
      ]
    },
    {
      "cell_type": "code",
      "source": [
        "# save model\n",
        "explicit_model.save('explicit_model')"
      ],
      "metadata": {
        "colab": {
          "base_uri": "https://localhost:8080/"
        },
        "id": "hUkuvsLegqYH",
        "outputId": "d0235f78-94ce-44b1-b7cb-ec9260996ee9"
      },
      "execution_count": 61,
      "outputs": [
        {
          "output_type": "stream",
          "name": "stderr",
          "text": [
            "WARNING:tensorflow:Model's `__init__()` arguments contain non-serializable objects. Please implement a `get_config()` method in the subclassed Model for proper saving and loading. Defaulting to empty config.\n",
            "WARNING:tensorflow:Model's `__init__()` arguments contain non-serializable objects. Please implement a `get_config()` method in the subclassed Model for proper saving and loading. Defaulting to empty config.\n",
            "WARNING:absl:Function `_wrapped_model` contains input name(s) movieTitle, userId with unsupported characters which will be renamed to movietitle, userid in the SavedModel.\n",
            "WARNING:absl:Found untraced functions such as ranking_layer_call_fn, ranking_layer_call_and_return_conditional_losses, _update_step_xla while saving (showing 3 of 3). These functions will not be directly callable after loading.\n",
            "WARNING:tensorflow:Model's `__init__()` arguments contain non-serializable objects. Please implement a `get_config()` method in the subclassed Model for proper saving and loading. Defaulting to empty config.\n",
            "WARNING:tensorflow:Model's `__init__()` arguments contain non-serializable objects. Please implement a `get_config()` method in the subclassed Model for proper saving and loading. Defaulting to empty config.\n"
          ]
        }
      ]
    },
    {
      "cell_type": "code",
      "source": [
        "explicit_loaded = tf.saved_model.load(\"explicit_model\")"
      ],
      "metadata": {
        "id": "bK6rJ2hXhEeB"
      },
      "execution_count": 62,
      "outputs": []
    },
    {
      "cell_type": "code",
      "source": [
        "# Note: Saved model takes input as 1-d array\n",
        "preds = explicit_loaded({\"userId\": tf.tile(['42'], [9737]), \"movieTitle\": movies['movieTitle'].unique()})\n",
        "tf.gather(all_movies, tf.squeeze(tf.argsort(preds, axis=0, direction='DESCENDING'))).numpy()"
      ],
      "metadata": {
        "colab": {
          "base_uri": "https://localhost:8080/"
        },
        "id": "0MjPEu6pmuL_",
        "outputId": "d7f65b89-3179-4ed6-bf58-19898da7f915"
      },
      "execution_count": 63,
      "outputs": [
        {
          "output_type": "execute_result",
          "data": {
            "text/plain": [
              "array([[b'Cement Garden, The (1993)'],\n",
              "       [b'Leave It to Beaver (1997)'],\n",
              "       [b'Pompatus of Love, The (1996)'],\n",
              "       ...,\n",
              "       [b'Savior (1998)'],\n",
              "       [b'Cobb (1994)'],\n",
              "       [b\"Alice Doesn't Live Here Anymore (1974)\"]], dtype=object)"
            ]
          },
          "metadata": {},
          "execution_count": 63
        }
      ]
    },
    {
      "cell_type": "markdown",
      "source": [
        "## Pushing"
      ],
      "metadata": {
        "id": "SEcpFTUWeibW"
      }
    },
    {
      "cell_type": "markdown",
      "source": [
        "This section pushes the code and model to github"
      ],
      "metadata": {
        "id": "y3j_F0EAeibX"
      }
    },
    {
      "cell_type": "markdown",
      "source": [
        "### Access token"
      ],
      "metadata": {
        "id": "RZ-WXBIbeibX"
      }
    },
    {
      "cell_type": "markdown",
      "source": [
        "Create an access token and store it"
      ],
      "metadata": {
        "id": "rAevRPG8eibX"
      }
    },
    {
      "cell_type": "code",
      "source": [
        "import getpass\n",
        "TOKEN = getpass.getpass(prompt='Please enter your token: ')"
      ],
      "metadata": {
        "colab": {
          "base_uri": "https://localhost:8080/"
        },
        "outputId": "16bd93b8-8a73-4042-9770-e7eeeb6dce02",
        "id": "AcrlUxsIeibX"
      },
      "execution_count": 64,
      "outputs": [
        {
          "name": "stdout",
          "output_type": "stream",
          "text": [
            "Please enter your token: ··········\n"
          ]
        }
      ]
    },
    {
      "cell_type": "code",
      "source": [
        "!git clone -b model_training https://$TOKEN@github.com/osamaoun97/MovieLens_Recommender_System.git"
      ],
      "metadata": {
        "colab": {
          "base_uri": "https://localhost:8080/"
        },
        "outputId": "69cbc4cb-f32e-46b8-933d-7e274f4f6d47",
        "id": "FXSU7G8YeibY"
      },
      "execution_count": 75,
      "outputs": [
        {
          "output_type": "stream",
          "name": "stdout",
          "text": [
            "Cloning into 'MovieLens_Recommender_System'...\n",
            "remote: Enumerating objects: 287, done.\u001b[K\n",
            "remote: Counting objects: 100% (142/142), done.\u001b[K\n",
            "remote: Compressing objects: 100% (105/105), done.\u001b[K\n",
            "remote: Total 287 (delta 51), reused 90 (delta 32), pack-reused 145\u001b[K\n",
            "Receiving objects: 100% (287/287), 45.40 MiB | 15.30 MiB/s, done.\n",
            "Resolving deltas: 100% (104/104), done.\n"
          ]
        }
      ]
    },
    {
      "cell_type": "code",
      "source": [
        "!cp -r /content/explicit_model /content/MovieLens_Recommender_System/models\n",
        "!cp -r /content/user_model /content/MovieLens_Recommender_System/models\n",
        "!cp -r /content/movie_model /content/MovieLens_Recommender_System/models"
      ],
      "metadata": {
        "id": "XplBDU71oMEd"
      },
      "execution_count": 76,
      "outputs": []
    },
    {
      "cell_type": "code",
      "source": [
        "cd /content/MovieLens_Recommender_System"
      ],
      "metadata": {
        "colab": {
          "base_uri": "https://localhost:8080/"
        },
        "id": "QKDmITHHfjhw",
        "outputId": "513dc655-f8bd-427d-b3bf-d5e800421dba"
      },
      "execution_count": 77,
      "outputs": [
        {
          "output_type": "stream",
          "name": "stdout",
          "text": [
            "/content/MovieLens_Recommender_System\n"
          ]
        }
      ]
    },
    {
      "cell_type": "code",
      "source": [
        "!python /content/MovieLens_Recommender_System/utils/user_rec_live.py"
      ],
      "metadata": {
        "colab": {
          "base_uri": "https://localhost:8080/"
        },
        "id": "5YuEJO_EYnzU",
        "outputId": "99c5b873-99ee-497f-aa60-a2b4cdc941a2"
      },
      "execution_count": 78,
      "outputs": [
        {
          "output_type": "stream",
          "name": "stdout",
          "text": [
            "2023-06-21 16:51:11.211634: W tensorflow/compiler/tf2tensorrt/utils/py_utils.cc:38] TF-TRT Warning: Could not find TensorRT\n",
            "recommendations: [b'Cement Garden, The (1993)' b'Leave It to Beaver (1997)'\n",
            " b'Pompatus of Love, The (1996)' ... b'Savior (1998)' b'Cobb (1994)'\n",
            " b\"Alice Doesn't Live Here Anymore (1974)\"]\n"
          ]
        }
      ]
    },
    {
      "cell_type": "code",
      "source": [
        "!git status"
      ],
      "metadata": {
        "id": "hgu1aIlbfrgk"
      },
      "execution_count": null,
      "outputs": []
    },
    {
      "cell_type": "code",
      "source": [
        "!git add ."
      ],
      "metadata": {
        "id": "3DQK1AXJeibZ"
      },
      "execution_count": null,
      "outputs": []
    },
    {
      "cell_type": "code",
      "source": [
        "USER = 'AmgadHasan'\n",
        "EMAIL = 'eng.amghasan@gmail.com'\n",
        "!git config --global user.name $USER\n",
        "!git config --global user.email $EMAIL"
      ],
      "metadata": {
        "id": "3V7KyqHmeibY"
      },
      "execution_count": 71,
      "outputs": []
    },
    {
      "cell_type": "code",
      "source": [
        "!git commit -m \"Retrained models after fixing the data spltting seed\""
      ],
      "metadata": {
        "id": "QTsMr9hGeibZ"
      },
      "execution_count": null,
      "outputs": []
    },
    {
      "cell_type": "code",
      "source": [
        "!git status"
      ],
      "metadata": {
        "id": "aSLXlWhkzv_D"
      },
      "execution_count": null,
      "outputs": []
    },
    {
      "cell_type": "code",
      "source": [
        "!git push origin model_training:model_training"
      ],
      "metadata": {
        "id": "vl7P6ELVeibZ"
      },
      "execution_count": null,
      "outputs": []
    }
  ],
  "metadata": {
    "colab": {
      "provenance": [],
      "collapsed_sections": [
        "qA00wBE2Ntdm",
        "zCxQ1CZcO2wh",
        "XhM4W1t6keqc",
        "j31d4CXz_2q3",
        "EaG_BCFbkjUD",
        "Lrch6rVBOB9Q",
        "BMV0HpzmJGWk",
        "Q3dGH_I7A_ZO",
        "7d3vv_Kr7rQn",
        "X58OruuYFt2s",
        "r44DDjPWUsW6"
      ]
    },
    "kernelspec": {
      "display_name": "Python 3",
      "name": "python3"
    }
  },
  "nbformat": 4,
  "nbformat_minor": 0
}