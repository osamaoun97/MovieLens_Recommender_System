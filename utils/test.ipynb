{
 "cells": [
  {
   "cell_type": "code",
   "execution_count": 5,
   "metadata": {},
   "outputs": [
    {
     "name": "stderr",
     "output_type": "stream",
     "text": [
      "c:\\Users\\y\\anaconda3\\lib\\site-packages\\keras\\saving\\legacy\\saved_model\\load.py:110: RuntimeWarning: Unexpected end-group tag: Not all data was converted\n",
      "  metadata.ParseFromString(file_content)\n"
     ]
    },
    {
     "name": "stdout",
     "output_type": "stream",
     "text": [
      "recommendations: ['Cement Garden, The (1993)', 'Leave It to Beaver (1997)', 'Pompatus of Love, The (1996)', 'I Love Trouble (1994)', 'Wit (2001)', 'Chinatown (1974)', 'Wings of Desire (Himmel über Berlin, Der) (1987)', 'Godfather: Part II, The (1974)', 'For Keeps (1988)', '10th Victim, The (La decima vittima) (1965)', 'Night of the Living Dead (1968)', 'RocketMan (a.k.a. Rocket Man) (1997)', 'Bobby (2006)', 'Escape from New York (1981)', 'Eddie Izzard: Dress to Kill (1999)', 'Star Wars: Episode V - The Empire Strikes Back (1980)', \"No Man's Land (1987)\", '8 Heads in a Duffel Bag (1997)', \"Von Ryan's Express (1965)\", 'I Know What You Did Last Summer (1997)', \"Legend of 1900, The (a.k.a. The Legend of the Pianist on the Ocean) (Leggenda del pianista sull'oceano) (1998)\", 'Kiss Me, Guido (1997)', 'Selena (1997)', 'Critical Care (1997)', 'Hero (1992)', 'Truman Show, The (1998)', 'New York, New York (1977)', 'Boot, Das (Boat, The) (1981)', 'To Kill a Mockingbird (1962)', 'Amistad (1997)', 'Stripes (1981)', 'Oklahoma! (1955)', 'Georgia (1995)', 'For Richer or Poorer (1997)', 'Thumbelina (1994)', 'Kull the Conqueror (1997)', 'In & Out (1997)', 'Switchback (1997)', 'Fish Story (Fisshu sutôrî) (2009)', 'Billy Elliot (2000)', 'Princess Bride, The (1987)', 'Withnail & I (1987)', 'Bullets Over Broadway (1994)', 'Foxy Brown (1974)', 'Steel (1997)', 'New York Cop (Nyû Yôku no koppu) (1993)', 'Officer and a Gentleman, An (1982)', 'Scarlet Letter, The (1995)', 'Mortal Kombat: Annihilation (1997)', 'Hurricane Streets (1997)']\n"
     ]
    }
   ],
   "source": [
    "import tensorflow as tf\n",
    "import pandas as pd\n",
    "\n",
    "class UserRecommender:\n",
    "    \"\"\"A class that provides movie recommendations for a given user.\"\"\"\n",
    "    def __init__(self):\n",
    "        \"\"\"Initializes the recommender by loading the pre-trained model and movie titles.\"\"\"\n",
    "        self.model = tf.keras.models.load_model(r'D:\\Projects\\Recommender_system\\MovieLens_Recommender_System\\models\\explicit_model')\n",
    "        self.movies = pd.read_csv(r'D:\\Projects\\Recommender_system\\MovieLens_Recommender_System\\data\\movies.csv')['title'].unique()\n",
    "        \n",
    "    def get_recommendations(self, user_id):\n",
    "        \"\"\"Generate movie recommendations for a given user ID.\n",
    "        Args:\n",
    "          - user_id (str): The id of the user. It should be a string like \"42\"\n",
    "          \n",
    "        Returns: List of ranked movies recommendation e.g. ['Godfather', 'Godfather2']\n",
    "        \"\"\"\n",
    "        model_input = {\"userId\": tf.tile([str(user_id)], [9737]), \"movieTitle\": self.movies}\n",
    "        predicted_ratings = self.model(model_input)\n",
    "        recommended_items = tf.gather(self.movies, tf.squeeze(tf.argsort(predicted_ratings, axis=0, direction='DESCENDING')))\n",
    "        return [item.decode('utf-8') for item in recommended_items.numpy()][:50]\n",
    "\n",
    "if __name__ == '__main__':\n",
    "    # recommender = UserRecommender()\n",
    "    # recommendations = []\n",
    "    # for user_id in range(1, 944):\n",
    "    #     user_recommendations = recommender.get_recommendations(user_id)\n",
    "    #     recommendations.append(user_recommendations)\n",
    "\n",
    "    # df = pd.DataFrame(recommendations, index=range(1, 944))\n",
    "    # df.to_csv('data/user_recommendations.csv', index_label='User ID')\n",
    "    \n",
    "    user_id = 44  # Example user ID\n",
    "    recommender = UserRecommender()\n",
    "    recommendations = recommender.get_recommendations(user_id)\n",
    "    print(\"recommendations:\", recommendations)\n"
   ]
  }
 ],
 "metadata": {
  "kernelspec": {
   "display_name": "base",
   "language": "python",
   "name": "python3"
  },
  "language_info": {
   "codemirror_mode": {
    "name": "ipython",
    "version": 3
   },
   "file_extension": ".py",
   "mimetype": "text/x-python",
   "name": "python",
   "nbconvert_exporter": "python",
   "pygments_lexer": "ipython3",
   "version": "3.9.13"
  },
  "orig_nbformat": 4
 },
 "nbformat": 4,
 "nbformat_minor": 2
}
